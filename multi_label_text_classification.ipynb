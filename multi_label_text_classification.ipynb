{
  "nbformat": 4,
  "nbformat_minor": 0,
  "metadata": {
    "colab": {
      "provenance": [],
      "machine_shape": "hm",
      "include_colab_link": true
    },
    "kernelspec": {
      "name": "python3",
      "display_name": "Python 3"
    },
    "language_info": {
      "name": "python"
    },
    "accelerator": "GPU",
    "gpuClass": "standard"
  },
  "cells": [
    {
      "cell_type": "markdown",
      "metadata": {
        "id": "view-in-github",
        "colab_type": "text"
      },
      "source": [
        "<a href=\"https://colab.research.google.com/github/DelaramRajaei/multi_label_text_classification/blob/main/multi_label_text_classification.ipynb\" target=\"_parent\"><img src=\"https://colab.research.google.com/assets/colab-badge.svg\" alt=\"Open In Colab\"/></a>"
      ]
    },
    {
      "cell_type": "markdown",
      "source": [
        "# Multi-label text classification"
      ],
      "metadata": {
        "id": "cZG_t10KB-OJ"
      }
    },
    {
      "cell_type": "markdown",
      "source": [
        "** Dataset size is not enough to train the model. If we add more layers, it will overfit and on the other hand, if we use more dropout or regularization(methods to overcome overfitting) the model accuracy will we low and arround 50%.\n",
        "However I manged to tackle the issue of overfitting and increase the accuracy up to 70%."
      ],
      "metadata": {
        "id": "RhYwOshpQAmA"
      }
    },
    {
      "cell_type": "code",
      "source": [
        "!nvidia-smi"
      ],
      "metadata": {
        "colab": {
          "base_uri": "https://localhost:8080/"
        },
        "id": "3fhOSK8R0AKv",
        "outputId": "a568bda6-10ea-492e-ff8f-6336ba17d231"
      },
      "execution_count": 1,
      "outputs": [
        {
          "output_type": "stream",
          "name": "stdout",
          "text": [
            "Wed Feb 22 08:23:01 2023       \n",
            "+-----------------------------------------------------------------------------+\n",
            "| NVIDIA-SMI 510.47.03    Driver Version: 510.47.03    CUDA Version: 11.6     |\n",
            "|-------------------------------+----------------------+----------------------+\n",
            "| GPU  Name        Persistence-M| Bus-Id        Disp.A | Volatile Uncorr. ECC |\n",
            "| Fan  Temp  Perf  Pwr:Usage/Cap|         Memory-Usage | GPU-Util  Compute M. |\n",
            "|                               |                      |               MIG M. |\n",
            "|===============================+======================+======================|\n",
            "|   0  Tesla T4            Off  | 00000000:00:04.0 Off |                    0 |\n",
            "| N/A   69C    P0    31W /  70W |      0MiB / 15360MiB |      0%      Default |\n",
            "|                               |                      |                  N/A |\n",
            "+-------------------------------+----------------------+----------------------+\n",
            "                                                                               \n",
            "+-----------------------------------------------------------------------------+\n",
            "| Processes:                                                                  |\n",
            "|  GPU   GI   CI        PID   Type   Process name                  GPU Memory |\n",
            "|        ID   ID                                                   Usage      |\n",
            "|=============================================================================|\n",
            "|  No running processes found                                                 |\n",
            "+-----------------------------------------------------------------------------+\n"
          ]
        }
      ]
    },
    {
      "cell_type": "markdown",
      "source": [
        "## Information"
      ],
      "metadata": {
        "id": "3vEj1-aNCAEn"
      }
    },
    {
      "cell_type": "markdown",
      "source": [
        "\n",
        "\n",
        "**Author:** [Farrokh Karimi](https://farrokhkarimi.github.io/)  \n",
        "**Edited By:** [Delaram Rajaei](https://delaramrajaei.github.io/)  \n",
        "**Description:** In this notebook, we want to classify the Ronash dataset into 20 category."
      ],
      "metadata": {
        "id": "Bij91pNWQOR5"
      }
    },
    {
      "cell_type": "markdown",
      "source": [
        "Edits can be found by \"# Edited\" tags."
      ],
      "metadata": {
        "id": "vWIRRneJ08Kh"
      }
    },
    {
      "cell_type": "markdown",
      "source": [
        "## Imports"
      ],
      "metadata": {
        "id": "1BgIQvHsCDTS"
      }
    },
    {
      "cell_type": "code",
      "source": [
        "import matplotlib.pyplot as plt\n",
        "import numpy as np\n",
        "import pandas as pd\n",
        "import re\n",
        "import tensorflow as tf\n",
        "import torch\n",
        "\n",
        "from keras.wrappers.scikit_learn import KerasClassifier\n",
        "from sklearn.model_selection import RandomizedSearchCV\n",
        "from sklearn.model_selection import train_test_split\n",
        "from tensorflow.keras import layers\n",
        "from collections import Counter\n",
        "\n",
        "from sklearn.model_selection import RandomizedSearchCV, GridSearchCV\n",
        "from sklearn.metrics import roc_auc_score\n",
        "from sklearn.model_selection import StratifiedKFold\n",
        "from xgboost import XGBClassifier"
      ],
      "metadata": {
        "id": "sL739kMAEsU9"
      },
      "execution_count": 2,
      "outputs": []
    },
    {
      "cell_type": "markdown",
      "source": [
        "## Dataset"
      ],
      "metadata": {
        "id": "xnPPRyMnCF6G"
      }
    },
    {
      "cell_type": "markdown",
      "source": [
        "### Download Dataset"
      ],
      "metadata": {
        "id": "IFqRQPb3CSTA"
      }
    },
    {
      "cell_type": "code",
      "source": [
        "# downloading Data from the Google Drive link\n",
        "!gdown 1Yq3XTnACkvaIiNlhX09Zth55nOau7jQy"
      ],
      "metadata": {
        "colab": {
          "base_uri": "https://localhost:8080/"
        },
        "id": "SHa9m3aLEbyP",
        "outputId": "88cf1b1f-23fd-4c95-ca57-39a2849eee89"
      },
      "execution_count": 3,
      "outputs": [
        {
          "output_type": "stream",
          "name": "stdout",
          "text": [
            "Downloading...\n",
            "From: https://drive.google.com/uc?id=1Yq3XTnACkvaIiNlhX09Zth55nOau7jQy\n",
            "To: /content/Ronash_DS_Assignment.csv\n",
            "\r  0% 0.00/1.05M [00:00<?, ?B/s]\r100% 1.05M/1.05M [00:00<00:00, 144MB/s]\n"
          ]
        }
      ]
    },
    {
      "cell_type": "code",
      "source": [
        "ls"
      ],
      "metadata": {
        "colab": {
          "base_uri": "https://localhost:8080/"
        },
        "id": "6QpBuoWrC5QS",
        "outputId": "cba43677-9b8e-43d6-d28f-1b5b7f46f629"
      },
      "execution_count": 4,
      "outputs": [
        {
          "output_type": "stream",
          "name": "stdout",
          "text": [
            "model.01-1.56.h5   model.17-2.67.h5   model.42-1.31.h5\n",
            "model.01-15.88.h5  model.17-2.77.h5   model.42-1.39.h5\n",
            "model.01-16.36.h5  model.17-2.89.h5   model.42-1.55.h5\n",
            "model.01-16.43.h5  model.173-1.01.h5  model.42-1.56.h5\n",
            "model.01-1.82.h5   model.173-1.15.h5  model.42-1.61.h5\n",
            "model.01-1.91.h5   model.173-1.20.h5  model.42-1.68.h5\n",
            "model.01-2.63.h5   model.174-1.01.h5  model.42-1.99.h5\n",
            "model.01-2.64.h5   model.174-1.15.h5  model.42-2.05.h5\n",
            "model.01-2.66.h5   model.174-1.20.h5  model.42-2.32.h5\n",
            "model.01-2.67.h5   model.175-1.01.h5  model.42-2.61.h5\n",
            "model.01-2.68.h5   model.175-1.15.h5  model.42-2.73.h5\n",
            "model.01-2.70.h5   model.175-1.20.h5  model.43-1.16.h5\n",
            "model.01-2.76.h5   model.176-1.00.h5  model.43-1.18.h5\n",
            "model.01-2.78.h5   model.176-1.15.h5  model.43-1.26.h5\n",
            "model.01-2.80.h5   model.176-1.19.h5  model.43-1.27.h5\n",
            "model.01-2.81.h5   model.177-1.00.h5  model.43-1.32.h5\n",
            "model.01-2.82.h5   model.177-1.14.h5  model.43-1.42.h5\n",
            "model.01-2.83.h5   model.177-1.19.h5  model.43-1.53.h5\n",
            "model.01-2.86.h5   model.178-1.00.h5  model.43-1.55.h5\n",
            "model.01-2.87.h5   model.178-1.15.h5  model.43-1.58.h5\n",
            "model.01-2.88.h5   model.178-1.19.h5  model.43-1.59.h5\n",
            "model.01-2.94.h5   model.179-1.00.h5  model.43-1.67.h5\n",
            "model.01-4.38.h5   model.179-1.15.h5  model.43-1.97.h5\n",
            "model.02-1.60.h5   model.179-1.19.h5  model.43-2.01.h5\n",
            "model.02-1.82.h5   model.180-1.00.h5  model.43-2.29.h5\n",
            "model.02-1.89.h5   model.180-1.15.h5  model.43-2.61.h5\n",
            "model.02-2.61.h5   model.180-1.19.h5  model.43-2.73.h5\n",
            "model.02-2.62.h5   model.181-1.00.h5  model.44-1.17.h5\n",
            "model.02-2.63.h5   model.181-1.15.h5  model.44-1.25.h5\n",
            "model.02-2.64.h5   model.181-1.19.h5  model.44-1.26.h5\n",
            "model.02-2.65.h5   model.18-1.54.h5   model.44-1.31.h5\n",
            "model.02-2.69.h5   model.18-1.67.h5   model.44-1.39.h5\n",
            "model.02-2.72.h5   model.18-1.70.h5   model.44-1.52.h5\n",
            "model.02-2.74.h5   model.18-1.72.h5   model.44-1.54.h5\n",
            "model.02-2.80.h5   model.18-1.74.h5   model.44-1.57.h5\n",
            "model.02-2.82.h5   model.18-1.78.h5   model.44-1.66.h5\n",
            "model.02-2.85.h5   model.18-1.79.h5   model.44-1.96.h5\n",
            "model.02-2.87.h5   model.18-1.85.h5   model.44-1.98.h5\n",
            "model.02-2.94.h5   model.18-1.86.h5   model.44-2.26.h5\n",
            "model.02-4.14.h5   model.18-1.92.h5   model.44-2.61.h5\n",
            "model.02-7.82.h5   model.18-1.96.h5   model.44-2.72.h5\n",
            "model.02-9.10.h5   model.18-2.05.h5   model.45-1.18.h5\n",
            "model.02-9.21.h5   model.182-1.00.h5  model.45-1.23.h5\n",
            "model.03-1.62.h5   model.182-1.14.h5  model.45-1.28.h5\n",
            "model.03-1.83.h5   model.182-1.19.h5  model.45-1.31.h5\n",
            "model.03-1.87.h5   model.18-2.16.h5   model.45-1.47.h5\n",
            "model.03-2.56.h5   model.18-2.19.h5   model.45-1.51.h5\n",
            "model.03-2.60.h5   model.18-2.22.h5   model.45-1.53.h5\n",
            "model.03-2.61.h5   model.18-2.25.h5   model.45-1.55.h5\n",
            "model.03-2.62.h5   model.18-2.28.h5   model.45-1.65.h5\n",
            "model.03-2.63.h5   model.18-2.61.h5   model.45-1.94.h5\n",
            "model.03-2.64.h5   model.18-2.63.h5   model.45-1.95.h5\n",
            "model.03-2.66.h5   model.18-2.67.h5   model.45-2.22.h5\n",
            "model.03-2.69.h5   model.18-2.76.h5   model.45-2.61.h5\n",
            "model.03-2.71.h5   model.18-2.86.h5   model.45-2.72.h5\n",
            "model.03-2.78.h5   model.183-1.00.h5  model.46-1.15.h5\n",
            "model.03-2.79.h5   model.183-1.14.h5  model.46-1.16.h5\n",
            "model.03-2.81.h5   model.183-1.19.h5  model.46-1.22.h5\n",
            "model.03-2.84.h5   model.184-1.00.h5  model.46-1.26.h5\n",
            "model.03-2.85.h5   model.184-1.15.h5  model.46-1.32.h5\n",
            "model.03-2.86.h5   model.184-1.19.h5  model.46-1.40.h5\n",
            "model.03-2.93.h5   model.185-1.00.h5  model.46-1.49.h5\n",
            "model.03-3.58.h5   model.185-1.14.h5  model.46-1.52.h5\n",
            "model.03-3.96.h5   model.185-1.19.h5  model.46-1.54.h5\n",
            "model.03-4.58.h5   model.186-1.00.h5  model.46-1.64.h5\n",
            "model.03-4.71.h5   model.186-1.14.h5  model.46-1.92.h5\n",
            "model.04-1.66.h5   model.186-1.19.h5  model.46-1.93.h5\n",
            "model.04-1.82.h5   model.187-1.00.h5  model.46-2.18.h5\n",
            "model.04-1.86.h5   model.187-1.14.h5  model.46-2.61.h5\n",
            "model.04-2.52.h5   model.187-1.19.h5  model.46-2.72.h5\n",
            "model.04-2.60.h5   model.188-0.99.h5  model.47-1.14.h5\n",
            "model.04-2.61.h5   model.188-1.15.h5  model.47-1.21.h5\n",
            "model.04-2.62.h5   model.188-1.19.h5  model.47-1.26.h5\n",
            "model.04-2.63.h5   model.189-0.99.h5  model.47-1.29.h5\n",
            "model.04-2.64.h5   model.189-1.14.h5  model.47-1.35.h5\n",
            "model.04-2.68.h5   model.189-1.18.h5  model.47-1.48.h5\n",
            "model.04-2.69.h5   model.190-0.99.h5  model.47-1.51.h5\n",
            "model.04-2.71.h5   model.190-1.14.h5  model.47-1.53.h5\n",
            "model.04-2.77.h5   model.190-1.18.h5  model.47-1.55.h5\n",
            "model.04-2.78.h5   model.191-0.99.h5  model.47-1.63.h5\n",
            "model.04-2.80.h5   model.191-1.14.h5  model.47-1.90.h5\n",
            "model.04-2.81.h5   model.191-1.18.h5  model.47-1.91.h5\n",
            "model.04-2.83.h5   model.19-1.47.h5   model.47-2.15.h5\n",
            "model.04-2.84.h5   model.19-1.61.h5   model.47-2.61.h5\n",
            "model.04-2.85.h5   model.19-1.66.h5   model.47-2.72.h5\n",
            "model.04-2.91.h5   model.19-1.67.h5   model.48-1.14.h5\n",
            "model.04-2.92.h5   model.19-1.72.h5   model.48-1.20.h5\n",
            "model.04-3.81.h5   model.19-1.74.h5   model.48-1.24.h5\n",
            "model.05-1.66.h5   model.19-1.76.h5   model.48-1.29.h5\n",
            "model.05-1.83.h5   model.19-1.80.h5   model.48-1.37.h5\n",
            "model.05-1.84.h5   model.19-1.81.h5   model.48-1.46.h5\n",
            "model.05-2.46.h5   model.19-1.82.h5   model.48-1.49.h5\n",
            "model.05-2.58.h5   model.19-1.88.h5   model.48-1.51.h5\n",
            "model.05-2.60.h5   model.19-1.89.h5   model.48-1.53.h5\n",
            "model.05-2.61.h5   model.19-1.91.h5   model.48-1.62.h5\n",
            "model.05-2.62.h5   model.19-2.01.h5   model.48-1.87.h5\n",
            "model.05-2.63.h5   model.192-0.99.h5  model.48-1.90.h5\n",
            "model.05-2.64.h5   model.19-2.10.h5   model.48-2.12.h5\n",
            "model.05-2.67.h5   model.192-1.14.h5  model.48-2.61.h5\n",
            "model.05-2.68.h5   model.192-1.18.h5  model.48-2.72.h5\n",
            "model.05-2.69.h5   model.19-2.16.h5   model.49-1.12.h5\n",
            "model.05-2.70.h5   model.19-2.17.h5   model.49-1.14.h5\n",
            "model.05-2.76.h5   model.19-2.21.h5   model.49-1.19.h5\n",
            "model.05-2.79.h5   model.19-2.24.h5   model.49-1.24.h5\n",
            "model.05-2.80.h5   model.19-2.61.h5   model.49-1.28.h5\n",
            "model.05-2.81.h5   model.19-2.62.h5   model.49-1.37.h5\n",
            "model.05-2.82.h5   model.19-2.63.h5   model.49-1.45.h5\n",
            "model.05-2.83.h5   model.19-2.67.h5   model.49-1.48.h5\n",
            "model.05-2.88.h5   model.19-2.77.h5   model.49-1.50.h5\n",
            "model.05-3.68.h5   model.19-2.83.h5   model.49-1.55.h5\n",
            "model.06-1.67.h5   model.193-0.99.h5  model.49-1.61.h5\n",
            "model.06-1.83.h5   model.193-1.14.h5  model.49-1.85.h5\n",
            "model.06-1.86.h5   model.193-1.18.h5  model.49-1.88.h5\n",
            "model.06-2.38.h5   model.194-0.99.h5  model.49-2.09.h5\n",
            "model.06-2.55.h5   model.194-1.15.h5  model.49-2.72.h5\n",
            "model.06-2.59.h5   model.194-1.18.h5  model.50-1.12.h5\n",
            "model.06-2.60.h5   model.195-0.99.h5  model.50-1.15.h5\n",
            "model.06-2.61.h5   model.195-1.14.h5  model.50-1.18.h5\n",
            "model.06-2.62.h5   model.195-1.18.h5  model.50-1.23.h5\n",
            "model.06-2.63.h5   model.196-0.99.h5  model.50-1.33.h5\n",
            "model.06-2.66.h5   model.196-1.14.h5  model.50-1.41.h5\n",
            "model.06-2.67.h5   model.196-1.18.h5  model.50-1.44.h5\n",
            "model.06-2.68.h5   model.197-0.99.h5  model.50-1.48.h5\n",
            "model.06-2.70.h5   model.197-1.14.h5  model.50-1.49.h5\n",
            "model.06-2.75.h5   model.197-1.18.h5  model.50-1.54.h5\n",
            "model.06-2.77.h5   model.198-0.99.h5  model.50-1.60.h5\n",
            "model.06-2.78.h5   model.198-1.14.h5  model.50-1.83.h5\n",
            "model.06-2.79.h5   model.198-1.18.h5  model.50-1.87.h5\n",
            "model.06-2.81.h5   model.199-0.99.h5  model.50-2.07.h5\n",
            "model.06-2.83.h5   model.199-1.13.h5  model.50-2.72.h5\n",
            "model.06-3.56.h5   model.199-1.18.h5  model.51-1.11.h5\n",
            "model.07-1.70.h5   model.200-0.99.h5  model.51-1.12.h5\n",
            "model.07-1.83.h5   model.200-1.13.h5  model.51-1.17.h5\n",
            "model.07-2.29.h5   model.200-1.18.h5  model.51-1.25.h5\n",
            "model.07-2.44.h5   model.20-1.40.h5   model.51-1.30.h5\n",
            "model.07-2.58.h5   model.20-1.56.h5   model.51-1.43.h5\n",
            "model.07-2.60.h5   model.20-1.62.h5   model.51-1.44.h5\n",
            "model.07-2.61.h5   model.20-1.63.h5   model.51-1.47.h5\n",
            "model.07-2.62.h5   model.20-1.70.h5   model.51-1.52.h5\n",
            "model.07-2.63.h5   model.20-1.71.h5   model.51-1.58.h5\n",
            "model.07-2.66.h5   model.20-1.73.h5   model.51-1.81.h5\n",
            "model.07-2.67.h5   model.20-1.76.h5   model.51-1.86.h5\n",
            "model.07-2.68.h5   model.20-1.77.h5   model.51-2.05.h5\n",
            "model.07-2.69.h5   model.20-1.84.h5   model.51-2.71.h5\n",
            "model.07-2.70.h5   model.20-1.87.h5   model.52-1.09.h5\n",
            "model.07-2.71.h5   model.20-1.99.h5   model.52-1.10.h5\n",
            "model.07-2.72.h5   model.20-2.04.h5   model.52-1.16.h5\n",
            "model.07-2.73.h5   model.20-2.12.h5   model.52-1.22.h5\n",
            "model.07-2.76.h5   model.20-2.13.h5   model.52-1.31.h5\n",
            "model.07-2.77.h5   model.20-2.17.h5   model.52-1.42.h5\n",
            "model.07-2.78.h5   model.20-2.22.h5   model.52-1.46.h5\n",
            "model.07-2.80.h5   model.20-2.61.h5   model.52-1.52.h5\n",
            "model.07-3.46.h5   model.20-2.62.h5   model.52-1.57.h5\n",
            "model.08-1.73.h5   model.20-2.67.h5   model.52-1.79.h5\n",
            "model.08-1.81.h5   model.20-2.76.h5   model.52-1.84.h5\n",
            "model.08-1.84.h5   model.20-2.81.h5   model.52-2.03.h5\n",
            "model.08-2.21.h5   model.21-1.37.h5   model.52-2.71.h5\n",
            "model.08-2.28.h5   model.21-1.51.h5   model.53-1.10.h5\n",
            "model.08-2.54.h5   model.21-1.58.h5   model.53-1.15.h5\n",
            "model.08-2.55.h5   model.21-1.68.h5   model.53-1.22.h5\n",
            "model.08-2.56.h5   model.21-1.70.h5   model.53-1.30.h5\n",
            "model.08-2.59.h5   model.21-1.72.h5   model.53-1.41.h5\n",
            "model.08-2.60.h5   model.21-1.80.h5   model.53-1.44.h5\n",
            "model.08-2.61.h5   model.21-1.82.h5   model.53-1.46.h5\n",
            "model.08-2.62.h5   model.21-1.95.h5   model.53-1.51.h5\n",
            "model.08-2.65.h5   model.21-1.98.h5   model.53-1.56.h5\n",
            "model.08-2.66.h5   model.21-2.09.h5   model.53-1.78.h5\n",
            "model.08-2.67.h5   model.21-2.14.h5   model.53-1.83.h5\n",
            "model.08-2.69.h5   model.21-2.19.h5   model.53-2.01.h5\n",
            "model.08-2.72.h5   model.21-2.61.h5   model.53-2.71.h5\n",
            "model.08-2.74.h5   model.21-2.62.h5   model.54-1.09.h5\n",
            "model.08-2.77.h5   model.21-2.67.h5   model.54-1.14.h5\n",
            "model.08-2.80.h5   model.21-2.76.h5   model.54-1.21.h5\n",
            "model.08-3.37.h5   model.21-2.79.h5   model.54-1.31.h5\n",
            "model.09-1.76.h5   model.22-1.35.h5   model.54-1.39.h5\n",
            "model.09-1.81.h5   model.22-1.46.h5   model.54-1.43.h5\n",
            "model.09-1.86.h5   model.22-1.54.h5   model.54-1.45.h5\n",
            "model.09-2.13.h5   model.22-1.65.h5   model.54-1.53.h5\n",
            "model.09-2.44.h5   model.22-1.66.h5   model.54-1.56.h5\n",
            "model.09-2.46.h5   model.22-1.68.h5   model.54-1.76.h5\n",
            "model.09-2.48.h5   model.22-1.69.h5   model.54-1.82.h5\n",
            "model.09-2.52.h5   model.22-1.73.h5   model.54-1.99.h5\n",
            "model.09-2.56.h5   model.22-1.74.h5   model.54-2.71.h5\n",
            "model.09-2.57.h5   model.22-1.79.h5   model.55-1.09.h5\n",
            "model.09-2.58.h5   model.22-1.92.h5   model.55-1.13.h5\n",
            "model.09-2.59.h5   model.22-1.93.h5   model.55-1.22.h5\n",
            "model.09-2.61.h5   model.22-2.05.h5   model.55-1.34.h5\n",
            "model.09-2.62.h5   model.22-2.06.h5   model.55-1.38.h5\n",
            "model.09-2.63.h5   model.22-2.10.h5   model.55-1.40.h5\n",
            "model.09-2.65.h5   model.22-2.19.h5   model.55-1.42.h5\n",
            "model.09-2.67.h5   model.22-2.60.h5   model.55-1.44.h5\n",
            "model.09-2.68.h5   model.22-2.61.h5   model.55-1.52.h5\n",
            "model.09-2.70.h5   model.22-2.67.h5   model.55-1.55.h5\n",
            "model.09-2.74.h5   model.22-2.76.h5   model.55-1.75.h5\n",
            "model.09-2.79.h5   model.22-2.77.h5   model.55-1.81.h5\n",
            "model.09-3.29.h5   model.23-1.32.h5   model.55-1.98.h5\n",
            "model.100-0.96.h5  model.23-1.41.h5   model.55-2.71.h5\n",
            "model.100-1.12.h5  model.23-1.49.h5   model.56-1.08.h5\n",
            "model.100-1.26.h5  model.23-1.62.h5   model.56-1.13.h5\n",
            "model.100-1.32.h5  model.23-1.63.h5   model.56-1.31.h5\n",
            "model.100-1.38.h5  model.23-1.64.h5   model.56-1.38.h5\n",
            "model.100-2.68.h5  model.23-1.68.h5   model.56-1.41.h5\n",
            "model.101-1.12.h5  model.23-1.69.h5   model.56-1.43.h5\n",
            "model.101-1.25.h5  model.23-1.71.h5   model.56-1.45.h5\n",
            "model.101-1.32.h5  model.23-1.74.h5   model.56-1.52.h5\n",
            "model.101-1.40.h5  model.23-1.87.h5   model.56-1.55.h5\n",
            "model.101-2.68.h5  model.23-1.90.h5   model.56-1.74.h5\n",
            "model.10-1.78.h5   model.23-2.01.h5   model.56-1.80.h5\n",
            "model.10-1.79.h5   model.23-2.04.h5   model.56-1.96.h5\n",
            "model.10-1.85.h5   model.23-2.07.h5   model.56-2.71.h5\n",
            "model.10-2.02.h5   model.23-2.16.h5   model.57-1.08.h5\n",
            "model.10-2.07.h5   model.23-2.59.h5   model.57-1.12.h5\n",
            "model.102-1.11.h5  model.23-2.60.h5   model.57-1.32.h5\n",
            "model.102-1.25.h5  model.23-2.61.h5   model.57-1.37.h5\n",
            "model.102-1.31.h5  model.23-2.67.h5   model.57-1.40.h5\n",
            "model.102-1.39.h5  model.23-2.75.h5   model.57-1.42.h5\n",
            "model.102-2.68.h5  model.23-2.76.h5   model.57-1.47.h5\n",
            "model.10-2.32.h5   model.24-1.32.h5   model.57-1.51.h5\n",
            "model.10-2.33.h5   model.24-1.35.h5   model.57-1.53.h5\n",
            "model.10-2.40.h5   model.24-1.47.h5   model.57-1.73.h5\n",
            "model.10-2.44.h5   model.24-1.58.h5   model.57-1.78.h5\n",
            "model.10-2.48.h5   model.24-1.59.h5   model.57-1.95.h5\n",
            "model.10-2.50.h5   model.24-1.60.h5   model.57-2.71.h5\n",
            "model.10-2.53.h5   model.24-1.62.h5   model.58-1.08.h5\n",
            "model.10-2.54.h5   model.24-1.64.h5   model.58-1.11.h5\n",
            "model.10-2.55.h5   model.24-1.66.h5   model.58-1.31.h5\n",
            "model.10-2.60.h5   model.24-1.70.h5   model.58-1.36.h5\n",
            "model.10-2.61.h5   model.24-1.83.h5   model.58-1.39.h5\n",
            "model.10-2.62.h5   model.24-1.87.h5   model.58-1.41.h5\n",
            "model.10-2.65.h5   model.24-1.97.h5   model.58-1.49.h5\n",
            "model.10-2.67.h5   model.24-2.01.h5   model.58-1.52.h5\n",
            "model.10-2.71.h5   model.24-2.04.h5   model.58-1.72.h5\n",
            "model.10-2.79.h5   model.24-2.12.h5   model.58-1.76.h5\n",
            "model.103-1.11.h5  model.24-2.57.h5   model.58-1.94.h5\n",
            "model.103-1.24.h5  model.24-2.58.h5   model.58-2.71.h5\n",
            "model.103-1.31.h5  model.24-2.61.h5   model.59-1.08.h5\n",
            "model.103-1.41.h5  model.24-2.67.h5   model.59-1.10.h5\n",
            "model.10-3.21.h5   model.24-2.74.h5   model.59-1.31.h5\n",
            "model.104-1.11.h5  model.24-2.75.h5   model.59-1.36.h5\n",
            "model.104-1.24.h5  model.25-1.30.h5   model.59-1.38.h5\n",
            "model.104-1.31.h5  model.25-1.32.h5   model.59-1.41.h5\n",
            "model.104-1.40.h5  model.25-1.42.h5   model.59-1.50.h5\n",
            "model.105-1.11.h5  model.25-1.45.h5   model.59-1.51.h5\n",
            "model.105-1.24.h5  model.25-1.55.h5   model.59-1.71.h5\n",
            "model.105-1.30.h5  model.25-1.56.h5   model.59-1.75.h5\n",
            "model.105-1.42.h5  model.25-1.57.h5   model.59-1.93.h5\n",
            "model.106-1.11.h5  model.25-1.58.h5   model.59-2.71.h5\n",
            "model.106-1.24.h5  model.25-1.60.h5   model.60-1.06.h5\n",
            "model.106-1.30.h5  model.25-1.61.h5   model.60-1.09.h5\n",
            "model.107-1.10.h5  model.25-1.62.h5   model.60-1.34.h5\n",
            "model.107-1.24.h5  model.25-1.67.h5   model.60-1.38.h5\n",
            "model.107-1.29.h5  model.25-1.71.h5   model.60-1.40.h5\n",
            "model.108-1.10.h5  model.25-1.79.h5   model.60-1.50.h5\n",
            "model.108-1.24.h5  model.25-1.85.h5   model.60-1.51.h5\n",
            "model.108-1.30.h5  model.25-1.94.h5   model.60-1.69.h5\n",
            "model.109-1.09.h5  model.25-1.98.h5   model.60-1.73.h5\n",
            "model.109-1.23.h5  model.25-2.01.h5   model.60-1.92.h5\n",
            "model.109-1.29.h5  model.25-2.10.h5   model.60-2.71.h5\n",
            "model.110-1.09.h5  model.25-2.55.h5   model.61-1.08.h5\n",
            "model.110-1.23.h5  model.25-2.61.h5   model.61-1.09.h5\n",
            "model.110-1.29.h5  model.25-2.67.h5   model.61-1.34.h5\n",
            "model.111-1.09.h5  model.25-2.73.h5   model.61-1.36.h5\n",
            "model.111-1.23.h5  model.25-2.75.h5   model.61-1.39.h5\n",
            "model.111-1.29.h5  model.26-1.28.h5   model.61-1.49.h5\n",
            "model.11-1.78.h5   model.26-1.35.h5   model.61-1.50.h5\n",
            "model.11-1.81.h5   model.26-1.40.h5   model.61-1.69.h5\n",
            "model.11-1.87.h5   model.26-1.44.h5   model.61-1.70.h5\n",
            "model.11-1.92.h5   model.26-1.52.h5   model.61-1.91.h5\n",
            "model.11-2.02.h5   model.26-1.53.h5   model.61-2.70.h5\n",
            "model.112-1.09.h5  model.26-1.54.h5   model.62-1.06.h5\n",
            "model.112-1.23.h5  model.26-1.55.h5   model.62-1.08.h5\n",
            "model.112-1.29.h5  model.26-1.56.h5   model.62-1.32.h5\n",
            "model.11-2.17.h5   model.26-1.57.h5   model.62-1.34.h5\n",
            "model.11-2.23.h5   model.26-1.59.h5   model.62-1.39.h5\n",
            "model.11-2.33.h5   model.26-1.65.h5   model.62-1.49.h5\n",
            "model.11-2.34.h5   model.26-1.66.h5   model.62-1.50.h5\n",
            "model.11-2.35.h5   model.26-1.74.h5   model.62-1.67.h5\n",
            "model.11-2.43.h5   model.26-1.82.h5   model.62-1.69.h5\n",
            "model.11-2.46.h5   model.26-1.91.h5   model.62-1.89.h5\n",
            "model.11-2.47.h5   model.26-1.96.h5   model.62-2.70.h5\n",
            "model.11-2.54.h5   model.26-1.98.h5   model.63-1.05.h5\n",
            "model.11-2.55.h5   model.26-2.08.h5   model.63-1.08.h5\n",
            "model.11-2.61.h5   model.26-2.51.h5   model.63-1.31.h5\n",
            "model.11-2.62.h5   model.26-2.53.h5   model.63-1.34.h5\n",
            "model.11-2.65.h5   model.26-2.61.h5   model.63-1.38.h5\n",
            "model.11-2.67.h5   model.26-2.67.h5   model.63-1.48.h5\n",
            "model.11-2.78.h5   model.26-2.71.h5   model.63-1.65.h5\n",
            "model.113-1.08.h5  model.26-2.75.h5   model.63-1.67.h5\n",
            "model.113-1.22.h5  model.27-1.25.h5   model.63-1.88.h5\n",
            "model.113-1.28.h5  model.27-1.37.h5   model.63-2.70.h5\n",
            "model.11-3.15.h5   model.27-1.45.h5   model.64-1.04.h5\n",
            "model.114-1.08.h5  model.27-1.48.h5   model.64-1.07.h5\n",
            "model.114-1.22.h5  model.27-1.52.h5   model.64-1.30.h5\n",
            "model.114-1.28.h5  model.27-1.53.h5   model.64-1.33.h5\n",
            "model.115-1.08.h5  model.27-1.54.h5   model.64-1.37.h5\n",
            "model.115-1.22.h5  model.27-1.59.h5   model.64-1.48.h5\n",
            "model.115-1.28.h5  model.27-1.64.h5   model.64-1.49.h5\n",
            "model.116-1.08.h5  model.27-1.66.h5   model.64-1.64.h5\n",
            "model.116-1.22.h5  model.27-1.69.h5   model.64-1.65.h5\n",
            "model.116-1.28.h5  model.27-1.80.h5   model.64-1.87.h5\n",
            "model.117-1.08.h5  model.27-1.88.h5   model.64-2.70.h5\n",
            "model.117-1.21.h5  model.27-1.93.h5   model.65-1.06.h5\n",
            "model.117-1.28.h5  model.27-1.95.h5   model.65-1.30.h5\n",
            "model.118-1.08.h5  model.27-2.06.h5   model.65-1.33.h5\n",
            "model.118-1.22.h5  model.27-2.47.h5   model.65-1.37.h5\n",
            "model.118-1.29.h5  model.27-2.49.h5   model.65-1.47.h5\n",
            "model.119-1.07.h5  model.27-2.61.h5   model.65-1.48.h5\n",
            "model.119-1.21.h5  model.27-2.67.h5   model.65-1.63.h5\n",
            "model.119-1.28.h5  model.27-2.70.h5   model.65-1.86.h5\n",
            "model.120-1.07.h5  model.27-2.75.h5   model.65-2.70.h5\n",
            "model.120-1.21.h5  model.28-1.25.h5   model.66-1.05.h5\n",
            "model.120-1.27.h5  model.28-1.37.h5   model.66-1.06.h5\n",
            "model.121-1.07.h5  model.28-1.44.h5   model.66-1.29.h5\n",
            "model.121-1.21.h5  model.28-1.47.h5   model.66-1.32.h5\n",
            "model.121-1.27.h5  model.28-1.48.h5   model.66-1.37.h5\n",
            "model.12-1.77.h5   model.28-1.49.h5   model.66-1.47.h5\n",
            "model.12-1.85.h5   model.28-1.50.h5   model.66-1.60.h5\n",
            "model.12-1.97.h5   model.28-1.51.h5   model.66-1.61.h5\n",
            "model.12-2.07.h5   model.28-1.58.h5   model.66-1.85.h5\n",
            "model.122-1.07.h5  model.28-1.64.h5   model.66-2.70.h5\n",
            "model.12-2.11.h5   model.28-1.66.h5   model.67-1.05.h5\n",
            "model.122-1.22.h5  model.28-1.78.h5   model.67-1.07.h5\n",
            "model.122-1.27.h5  model.28-1.85.h5   model.67-1.28.h5\n",
            "model.12-2.18.h5   model.28-1.91.h5   model.67-1.31.h5\n",
            "model.12-2.23.h5   model.28-1.93.h5   model.67-1.36.h5\n",
            "model.12-2.26.h5   model.28-2.03.h5   model.67-1.46.h5\n",
            "model.12-2.30.h5   model.28-2.43.h5   model.67-1.48.h5\n",
            "model.12-2.36.h5   model.28-2.47.h5   model.67-1.59.h5\n",
            "model.12-2.37.h5   model.28-2.61.h5   model.67-1.60.h5\n",
            "model.12-2.48.h5   model.28-2.67.h5   model.67-1.84.h5\n",
            "model.12-2.50.h5   model.28-2.68.h5   model.67-2.70.h5\n",
            "model.12-2.56.h5   model.28-2.75.h5   model.68-1.04.h5\n",
            "model.12-2.58.h5   model.29-1.25.h5   model.68-1.05.h5\n",
            "model.12-2.61.h5   model.29-1.40.h5   model.68-1.28.h5\n",
            "model.12-2.62.h5   model.29-1.44.h5   model.68-1.31.h5\n",
            "model.12-2.65.h5   model.29-1.46.h5   model.68-1.36.h5\n",
            "model.12-2.67.h5   model.29-1.48.h5   model.68-1.45.h5\n",
            "model.12-2.78.h5   model.29-1.51.h5   model.68-1.46.h5\n",
            "model.12-3.09.h5   model.29-1.59.h5   model.68-1.57.h5\n",
            "model.123-1.07.h5  model.29-1.60.h5   model.68-1.59.h5\n",
            "model.123-1.20.h5  model.29-1.63.h5   model.68-1.83.h5\n",
            "model.123-1.27.h5  model.29-1.76.h5   model.68-2.70.h5\n",
            "model.124-1.07.h5  model.29-1.82.h5   model.69-1.04.h5\n",
            "model.124-1.20.h5  model.29-1.89.h5   model.69-1.27.h5\n",
            "model.124-1.27.h5  model.29-1.90.h5   model.69-1.30.h5\n",
            "model.125-1.06.h5  model.29-2.00.h5   model.69-1.34.h5\n",
            "model.125-1.21.h5  model.29-2.39.h5   model.69-1.44.h5\n",
            "model.125-1.26.h5  model.29-2.44.h5   model.69-1.46.h5\n",
            "model.126-1.06.h5  model.29-2.61.h5   model.69-1.55.h5\n",
            "model.126-1.21.h5  model.29-2.66.h5   model.69-1.58.h5\n",
            "model.126-1.26.h5  model.29-2.67.h5   model.69-1.82.h5\n",
            "model.127-1.06.h5  model.29-2.75.h5   model.69-2.70.h5\n",
            "model.127-1.20.h5  model.30-1.25.h5   model.70-1.04.h5\n",
            "model.127-1.26.h5  model.30-1.41.h5   model.70-1.05.h5\n",
            "model.128-1.06.h5  model.30-1.42.h5   model.70-1.26.h5\n",
            "model.128-1.20.h5  model.30-1.43.h5   model.70-1.28.h5\n",
            "model.128-1.26.h5  model.30-1.45.h5   model.70-1.35.h5\n",
            "model.129-1.06.h5  model.30-1.46.h5   model.70-1.44.h5\n",
            "model.129-1.20.h5  model.30-1.54.h5   model.70-1.48.h5\n",
            "model.129-1.26.h5  model.30-1.55.h5   model.70-1.53.h5\n",
            "model.130-1.06.h5  model.30-1.56.h5   model.70-1.56.h5\n",
            "model.130-1.20.h5  model.30-1.57.h5   model.70-1.81.h5\n",
            "model.130-1.25.h5  model.30-1.60.h5   model.70-2.70.h5\n",
            "model.131-1.05.h5  model.30-1.64.h5   model.71-1.03.h5\n",
            "model.131-1.20.h5  model.30-1.75.h5   model.71-1.04.h5\n",
            "model.131-1.25.h5  model.30-1.79.h5   model.71-1.25.h5\n",
            "model.13-1.76.h5   model.30-1.87.h5   model.71-1.27.h5\n",
            "model.13-1.80.h5   model.30-2.01.h5   model.71-1.34.h5\n",
            "model.13-1.93.h5   model.30-2.36.h5   model.71-1.43.h5\n",
            "model.13-1.99.h5   model.30-2.42.h5   model.71-1.47.h5\n",
            "model.13-2.00.h5   model.30-2.61.h5   model.71-1.52.h5\n",
            "model.13-2.04.h5   model.30-2.63.h5   model.71-1.55.h5\n",
            "model.132-1.05.h5  model.30-2.67.h5   model.71-1.80.h5\n",
            "model.132-1.20.h5  model.30-2.74.h5   model.71-2.70.h5\n",
            "model.132-1.25.h5  model.31-1.26.h5   model.72-1.03.h5\n",
            "model.13-2.12.h5   model.31-1.39.h5   model.72-1.25.h5\n",
            "model.13-2.13.h5   model.31-1.40.h5   model.72-1.26.h5\n",
            "model.13-2.17.h5   model.31-1.41.h5   model.72-1.34.h5\n",
            "model.13-2.18.h5   model.31-1.43.h5   model.72-1.43.h5\n",
            "model.13-2.28.h5   model.31-1.45.h5   model.72-1.46.h5\n",
            "model.13-2.30.h5   model.31-1.51.h5   model.72-1.52.h5\n",
            "model.13-2.43.h5   model.31-1.55.h5   model.72-1.54.h5\n",
            "model.13-2.45.h5   model.31-1.56.h5   model.72-1.79.h5\n",
            "model.13-2.51.h5   model.31-1.61.h5   model.72-2.70.h5\n",
            "model.13-2.52.h5   model.31-1.63.h5   model.73-1.02.h5\n",
            "model.13-2.57.h5   model.31-1.67.h5   model.73-1.04.h5\n",
            "model.13-2.61.h5   model.31-1.72.h5   model.73-1.24.h5\n",
            "model.13-2.62.h5   model.31-1.77.h5   model.73-1.26.h5\n",
            "model.13-2.64.h5   model.31-1.84.h5   model.73-1.33.h5\n",
            "model.13-2.65.h5   model.31-1.85.h5   model.73-1.43.h5\n",
            "model.13-2.67.h5   model.31-1.97.h5   model.73-1.44.h5\n",
            "model.13-2.78.h5   model.31-2.32.h5   model.73-1.50.h5\n",
            "model.13-3.04.h5   model.31-2.40.h5   model.73-1.52.h5\n",
            "model.133-1.05.h5  model.31-2.60.h5   model.73-1.78.h5\n",
            "model.133-1.20.h5  model.31-2.61.h5   model.73-2.69.h5\n",
            "model.133-1.25.h5  model.31-2.67.h5   model.74-1.02.h5\n",
            "model.134-1.05.h5  model.31-2.74.h5   model.74-1.03.h5\n",
            "model.134-1.19.h5  model.32-1.33.h5   model.74-1.23.h5\n",
            "model.134-1.25.h5  model.32-1.35.h5   model.74-1.24.h5\n",
            "model.135-1.05.h5  model.32-1.39.h5   model.74-1.33.h5\n",
            "model.135-1.19.h5  model.32-1.41.h5   model.74-1.42.h5\n",
            "model.135-1.25.h5  model.32-1.43.h5   model.74-1.44.h5\n",
            "model.136-1.05.h5  model.32-1.47.h5   model.74-1.49.h5\n",
            "model.136-1.19.h5  model.32-1.49.h5   model.74-1.52.h5\n",
            "model.136-1.25.h5  model.32-1.55.h5   model.74-1.77.h5\n",
            "model.137-1.04.h5  model.32-1.62.h5   model.74-2.70.h5\n",
            "model.137-1.20.h5  model.32-1.63.h5   model.75-1.01.h5\n",
            "model.137-1.24.h5  model.32-1.64.h5   model.75-1.03.h5\n",
            "model.138-1.04.h5  model.32-1.71.h5   model.75-1.23.h5\n",
            "model.138-1.19.h5  model.32-1.74.h5   model.75-1.24.h5\n",
            "model.138-1.24.h5  model.32-1.81.h5   model.75-1.33.h5\n",
            "model.139-1.04.h5  model.32-1.83.h5   model.75-1.42.h5\n",
            "model.139-1.19.h5  model.32-1.96.h5   model.75-1.46.h5\n",
            "model.139-1.24.h5  model.32-2.30.h5   model.75-1.48.h5\n",
            "model.140-1.04.h5  model.32-2.38.h5   model.75-1.51.h5\n",
            "model.140-1.19.h5  model.32-2.57.h5   model.75-1.77.h5\n",
            "model.140-1.24.h5  model.32-2.61.h5   model.75-2.69.h5\n",
            "model.141-1.04.h5  model.32-2.67.h5   model.76-1.01.h5\n",
            "model.141-1.19.h5  model.32-2.74.h5   model.76-1.04.h5\n",
            "model.141-1.24.h5  model.33-1.31.h5   model.76-1.22.h5\n",
            "model.14-1.74.h5   model.33-1.34.h5   model.76-1.32.h5\n",
            "model.14-1.76.h5   model.33-1.36.h5   model.76-1.41.h5\n",
            "model.14-1.90.h5   model.33-1.39.h5   model.76-1.46.h5\n",
            "model.14-1.94.h5   model.33-1.41.h5   model.76-1.47.h5\n",
            "model.14-1.95.h5   model.33-1.45.h5   model.76-1.49.h5\n",
            "model.14-2.02.h5   model.33-1.52.h5   model.76-1.76.h5\n",
            "model.14-2.03.h5   model.33-1.60.h5   model.76-2.69.h5\n",
            "model.14-2.07.h5   model.33-1.62.h5   model.77-1.01.h5\n",
            "model.14-2.08.h5   model.33-1.64.h5   model.77-1.03.h5\n",
            "model.142-1.04.h5  model.33-1.65.h5   model.77-1.21.h5\n",
            "model.14-2.10.h5   model.33-1.70.h5   model.77-1.32.h5\n",
            "model.142-1.18.h5  model.33-1.72.h5   model.77-1.41.h5\n",
            "model.142-1.24.h5  model.33-1.77.h5   model.77-1.45.h5\n",
            "model.14-2.20.h5   model.33-1.79.h5   model.77-1.46.h5\n",
            "model.14-2.24.h5   model.33-1.81.h5   model.77-1.48.h5\n",
            "model.14-2.37.h5   model.33-1.96.h5   model.77-1.76.h5\n",
            "model.14-2.42.h5   model.33-2.27.h5   model.77-2.69.h5\n",
            "model.14-2.45.h5   model.33-2.35.h5   model.78-1.00.h5\n",
            "model.14-2.48.h5   model.33-2.54.h5   model.78-1.21.h5\n",
            "model.14-2.61.h5   model.33-2.61.h5   model.78-1.31.h5\n",
            "model.14-2.62.h5   model.33-2.67.h5   model.78-1.41.h5\n",
            "model.14-2.64.h5   model.33-2.74.h5   model.78-1.44.h5\n",
            "model.14-2.67.h5   model.34-1.31.h5   model.78-1.47.h5\n",
            "model.14-2.77.h5   model.34-1.33.h5   model.78-1.76.h5\n",
            "model.14-3.00.h5   model.34-1.34.h5   model.78-2.69.h5\n",
            "model.143-1.04.h5  model.34-1.39.h5   model.79-1.00.h5\n",
            "model.143-1.18.h5  model.34-1.40.h5   model.79-1.21.h5\n",
            "model.143-1.24.h5  model.34-1.44.h5   model.79-1.31.h5\n",
            "model.144-1.04.h5  model.34-1.45.h5   model.79-1.39.h5\n",
            "model.144-1.18.h5  model.34-1.51.h5   model.79-1.44.h5\n",
            "model.144-1.23.h5  model.34-1.60.h5   model.79-1.46.h5\n",
            "model.145-1.03.h5  model.34-1.61.h5   model.79-1.76.h5\n",
            "model.145-1.18.h5  model.34-1.68.h5   model.79-2.69.h5\n",
            "model.145-1.23.h5  model.34-1.69.h5   model.80-1.00.h5\n",
            "model.146-1.03.h5  model.34-1.70.h5   model.80-1.20.h5\n",
            "model.146-1.17.h5  model.34-1.76.h5   model.80-1.30.h5\n",
            "model.146-1.23.h5  model.34-1.77.h5   model.80-1.39.h5\n",
            "model.147-1.03.h5  model.34-1.79.h5   model.80-1.44.h5\n",
            "model.147-1.18.h5  model.34-1.93.h5   model.80-1.45.h5\n",
            "model.147-1.22.h5  model.34-2.23.h5   model.80-1.76.h5\n",
            "model.148-1.03.h5  model.34-2.32.h5   model.80-2.69.h5\n",
            "model.148-1.17.h5  model.34-2.51.h5   model.81-0.99.h5\n",
            "model.148-1.22.h5  model.34-2.61.h5   model.81-1.20.h5\n",
            "model.149-1.03.h5  model.34-2.67.h5   model.81-1.30.h5\n",
            "model.149-1.18.h5  model.34-2.74.h5   model.81-1.39.h5\n",
            "model.149-1.23.h5  model.35-1.29.h5   model.81-1.41.h5\n",
            "model.150-1.03.h5  model.35-1.31.h5   model.81-1.44.h5\n",
            "model.150-1.18.h5  model.35-1.37.h5   model.81-1.76.h5\n",
            "model.150-1.22.h5  model.35-1.38.h5   model.81-2.69.h5\n",
            "model.151-1.03.h5  model.35-1.41.h5   model.82-0.99.h5\n",
            "model.151-1.18.h5  model.35-1.44.h5   model.82-1.19.h5\n",
            "model.151-1.22.h5  model.35-1.53.h5   model.82-1.30.h5\n",
            "model.15-1.70.h5   model.35-1.60.h5   model.82-1.38.h5\n",
            "model.15-1.75.h5   model.35-1.66.h5   model.82-1.40.h5\n",
            "model.15-1.87.h5   model.35-1.67.h5   model.82-1.44.h5\n",
            "model.15-1.88.h5   model.35-1.68.h5   model.82-1.76.h5\n",
            "model.15-1.89.h5   model.35-1.70.h5   model.82-2.69.h5\n",
            "model.15-1.93.h5   model.35-1.75.h5   model.83-0.99.h5\n",
            "model.15-1.97.h5   model.35-1.77.h5   model.83-1.19.h5\n",
            "model.15-1.98.h5   model.35-1.78.h5   model.83-1.30.h5\n",
            "model.15-2.03.h5   model.35-1.92.h5   model.83-1.38.h5\n",
            "model.15-2.06.h5   model.35-2.19.h5   model.83-1.41.h5\n",
            "model.152-1.03.h5  model.35-2.30.h5   model.83-1.43.h5\n",
            "model.152-1.17.h5  model.35-2.49.h5   model.83-1.76.h5\n",
            "model.152-1.22.h5  model.35-2.61.h5   model.83-2.69.h5\n",
            "model.15-2.14.h5   model.35-2.67.h5   model.84-0.99.h5\n",
            "model.15-2.18.h5   model.35-2.74.h5   model.84-1.18.h5\n",
            "model.15-2.32.h5   model.36-1.28.h5   model.84-1.29.h5\n",
            "model.15-2.37.h5   model.36-1.29.h5   model.84-1.38.h5\n",
            "model.15-2.39.h5   model.36-1.35.h5   model.84-1.41.h5\n",
            "model.15-2.40.h5   model.36-1.36.h5   model.84-1.76.h5\n",
            "model.15-2.61.h5   model.36-1.38.h5   model.84-2.69.h5\n",
            "model.15-2.62.h5   model.36-1.41.h5   model.85-0.98.h5\n",
            "model.15-2.64.h5   model.36-1.48.h5   model.85-1.18.h5\n",
            "model.15-2.67.h5   model.36-1.50.h5   model.85-1.29.h5\n",
            "model.15-2.77.h5   model.36-1.54.h5   model.85-1.37.h5\n",
            "model.15-2.96.h5   model.36-1.60.h5   model.85-1.40.h5\n",
            "model.153-1.03.h5  model.36-1.65.h5   model.85-1.41.h5\n",
            "model.153-1.17.h5  model.36-1.66.h5   model.85-1.76.h5\n",
            "model.153-1.22.h5  model.36-1.70.h5   model.85-2.69.h5\n",
            "model.154-1.03.h5  model.36-1.72.h5   model.86-0.98.h5\n",
            "model.154-1.17.h5  model.36-1.77.h5   model.86-1.17.h5\n",
            "model.154-1.22.h5  model.36-1.80.h5   model.86-1.29.h5\n",
            "model.155-1.02.h5  model.36-1.82.h5   model.86-1.37.h5\n",
            "model.155-1.18.h5  model.36-2.16.h5   model.86-1.39.h5\n",
            "model.155-1.22.h5  model.36-2.26.h5   model.86-1.40.h5\n",
            "model.156-1.02.h5  model.36-2.47.h5   model.86-1.77.h5\n",
            "model.156-1.17.h5  model.36-2.61.h5   model.86-2.69.h5\n",
            "model.156-1.22.h5  model.36-2.67.h5   model.87-0.98.h5\n",
            "model.157-1.02.h5  model.36-2.73.h5   model.87-1.17.h5\n",
            "model.157-1.16.h5  model.37-1.27.h5   model.87-1.28.h5\n",
            "model.157-1.22.h5  model.37-1.29.h5   model.87-1.37.h5\n",
            "model.158-1.02.h5  model.37-1.32.h5   model.87-1.38.h5\n",
            "model.158-1.16.h5  model.37-1.34.h5   model.87-1.39.h5\n",
            "model.158-1.22.h5  model.37-1.38.h5   model.87-1.77.h5\n",
            "model.159-1.02.h5  model.37-1.45.h5   model.87-2.69.h5\n",
            "model.159-1.17.h5  model.37-1.52.h5   model.88-0.98.h5\n",
            "model.159-1.22.h5  model.37-1.55.h5   model.88-1.17.h5\n",
            "model.160-1.02.h5  model.37-1.61.h5   model.88-1.28.h5\n",
            "model.160-1.16.h5  model.37-1.63.h5   model.88-1.36.h5\n",
            "model.160-1.22.h5  model.37-1.64.h5   model.88-1.39.h5\n",
            "model.161-1.02.h5  model.37-1.70.h5   model.88-1.40.h5\n",
            "model.161-1.16.h5  model.37-1.71.h5   model.88-1.78.h5\n",
            "model.161-1.21.h5  model.37-1.75.h5   model.88-2.68.h5\n",
            "model.16-1.65.h5   model.37-1.82.h5   model.89-0.98.h5\n",
            "model.16-1.75.h5   model.37-2.12.h5   model.89-1.16.h5\n",
            "model.16-1.80.h5   model.37-2.22.h5   model.89-1.27.h5\n",
            "model.16-1.82.h5   model.37-2.45.h5   model.89-1.36.h5\n",
            "model.16-1.84.h5   model.37-2.61.h5   model.89-1.39.h5\n",
            "model.16-1.85.h5   model.37-2.73.h5   model.89-1.78.h5\n",
            "model.16-1.88.h5   model.38-1.23.h5   model.89-2.68.h5\n",
            "model.16-1.92.h5   model.38-1.25.h5   model.90-0.97.h5\n",
            "model.16-1.93.h5   model.38-1.33.h5   model.90-1.15.h5\n",
            "model.16-1.97.h5   model.38-1.36.h5   model.90-1.27.h5\n",
            "model.16-1.98.h5   model.38-1.48.h5   model.90-1.35.h5\n",
            "model.16-2.07.h5   model.38-1.49.h5   model.90-1.38.h5\n",
            "model.16-2.08.h5   model.38-1.52.h5   model.90-1.79.h5\n",
            "model.162-1.02.h5  model.38-1.57.h5   model.90-2.68.h5\n",
            "model.162-1.16.h5  model.38-1.59.h5   model.91-0.97.h5\n",
            "model.162-1.21.h5  model.38-1.61.h5   model.91-1.15.h5\n",
            "model.16-2.14.h5   model.38-1.62.h5   model.91-1.27.h5\n",
            "model.16-2.28.h5   model.38-1.68.h5   model.91-1.35.h5\n",
            "model.16-2.30.h5   model.38-1.74.h5   model.91-1.39.h5\n",
            "model.16-2.33.h5   model.38-1.80.h5   model.91-1.40.h5\n",
            "model.16-2.34.h5   model.38-1.87.h5   model.91-1.79.h5\n",
            "model.16-2.35.h5   model.38-2.09.h5   model.91-2.68.h5\n",
            "model.16-2.61.h5   model.38-2.19.h5   model.92-0.97.h5\n",
            "model.16-2.62.h5   model.38-2.42.h5   model.92-1.15.h5\n",
            "model.16-2.64.h5   model.38-2.61.h5   model.92-1.27.h5\n",
            "model.16-2.67.h5   model.38-2.73.h5   model.92-1.34.h5\n",
            "model.16-2.77.h5   model.39-1.24.h5   model.92-1.36.h5\n",
            "model.16-2.92.h5   model.39-1.25.h5   model.92-2.68.h5\n",
            "model.163-1.02.h5  model.39-1.31.h5   model.93-0.97.h5\n",
            "model.163-1.16.h5  model.39-1.36.h5   model.93-1.14.h5\n",
            "model.163-1.21.h5  model.39-1.50.h5   model.93-1.26.h5\n",
            "model.164-1.02.h5  model.39-1.51.h5   model.93-1.35.h5\n",
            "model.164-1.16.h5  model.39-1.57.h5   model.93-1.37.h5\n",
            "model.164-1.21.h5  model.39-1.60.h5   model.93-1.38.h5\n",
            "model.165-1.01.h5  model.39-1.66.h5   model.93-2.68.h5\n",
            "model.165-1.15.h5  model.39-1.72.h5   model.94-0.97.h5\n",
            "model.165-1.21.h5  model.39-1.76.h5   model.94-1.14.h5\n",
            "model.166-1.02.h5  model.39-2.06.h5   model.94-1.27.h5\n",
            "model.166-1.15.h5  model.39-2.15.h5   model.94-1.34.h5\n",
            "model.166-1.21.h5  model.39-2.40.h5   model.94-1.36.h5\n",
            "model.167-1.01.h5  model.39-2.61.h5   model.94-1.38.h5\n",
            "model.167-1.15.h5  model.39-2.73.h5   model.94-2.68.h5\n",
            "model.167-1.21.h5  model.40-1.21.h5   model.95-0.97.h5\n",
            "model.168-1.01.h5  model.40-1.22.h5   model.95-1.14.h5\n",
            "model.168-1.15.h5  model.40-1.30.h5   model.95-1.26.h5\n",
            "model.168-1.20.h5  model.40-1.32.h5   model.95-1.33.h5\n",
            "model.169-1.01.h5  model.40-1.33.h5   model.95-1.36.h5\n",
            "model.169-1.15.h5  model.40-1.43.h5   model.95-1.38.h5\n",
            "model.169-1.20.h5  model.40-1.54.h5   model.95-2.68.h5\n",
            "model.170-1.01.h5  model.40-1.57.h5   model.96-0.96.h5\n",
            "model.170-1.15.h5  model.40-1.58.h5   model.96-1.13.h5\n",
            "model.170-1.20.h5  model.40-1.59.h5   model.96-1.26.h5\n",
            "model.171-1.01.h5  model.40-1.64.h5   model.96-1.33.h5\n",
            "model.171-1.15.h5  model.40-1.72.h5   model.96-1.36.h5\n",
            "model.171-1.20.h5  model.40-2.04.h5   model.96-1.38.h5\n",
            "model.17-1.61.h5   model.40-2.11.h5   model.96-2.68.h5\n",
            "model.17-1.72.h5   model.40-2.37.h5   model.97-0.96.h5\n",
            "model.17-1.73.h5   model.40-2.61.h5   model.97-1.13.h5\n",
            "model.17-1.75.h5   model.40-2.73.h5   model.97-1.26.h5\n",
            "model.17-1.80.h5   model.41-1.20.h5   model.97-1.32.h5\n",
            "model.17-1.81.h5   model.41-1.21.h5   model.97-1.36.h5\n",
            "model.17-1.83.h5   model.41-1.28.h5   model.97-2.68.h5\n",
            "model.17-1.88.h5   model.41-1.30.h5   model.98-0.96.h5\n",
            "model.17-1.89.h5   model.41-1.33.h5   model.98-1.13.h5\n",
            "model.17-1.91.h5   model.41-1.38.h5   model.98-1.25.h5\n",
            "model.17-1.95.h5   model.41-1.57.h5   model.98-1.32.h5\n",
            "model.17-2.00.h5   model.41-1.58.h5   model.98-1.37.h5\n",
            "model.17-2.09.h5   model.41-1.63.h5   model.98-2.68.h5\n",
            "model.172-1.01.h5  model.41-1.69.h5   model.99-0.96.h5\n",
            "model.172-1.15.h5  model.41-2.01.h5   model.99-1.12.h5\n",
            "model.172-1.20.h5  model.41-2.08.h5   model.99-1.26.h5\n",
            "model.17-2.23.h5   model.41-2.35.h5   model.99-1.32.h5\n",
            "model.17-2.27.h5   model.41-2.61.h5   model.99-1.37.h5\n",
            "model.17-2.29.h5   model.41-2.73.h5   model.99-2.68.h5\n",
            "model.17-2.31.h5   model.42-1.21.h5   Ronash_DS_Assignment.csv\n",
            "model.17-2.61.h5   model.42-1.27.h5   \u001b[0m\u001b[01;34msample_data\u001b[0m/\n",
            "model.17-2.63.h5   model.42-1.28.h5\n"
          ]
        }
      ]
    },
    {
      "cell_type": "code",
      "source": [
        "# reading the csv file as a dataframe\n",
        "df = pd.read_csv('Ronash_DS_Assignment.csv')\n",
        "df"
      ],
      "metadata": {
        "colab": {
          "base_uri": "https://localhost:8080/",
          "height": 424
        },
        "id": "722bMOmzF4_H",
        "outputId": "32625f3d-2f79-41f5-c3a1-15e0a2cd4247"
      },
      "execution_count": 5,
      "outputs": [
        {
          "output_type": "execute_result",
          "data": {
            "text/plain": [
              "         product_id                                              title  \\\n",
              "0     3937721221199    Fidele Super Premium Adult Large Breed Dog Food   \n",
              "1     7353058033889                    Foldable Pet Toys Linen Storage   \n",
              "2     6594773549129                                     Bok Dok Diaper   \n",
              "3     4802008318014                              Tastybone Toy Chicken   \n",
              "4     1779705151539                Leather Leash Tab - Short Dog Leash   \n",
              "...             ...                                                ...   \n",
              "5265  4637089464407                              Candylab MOO Milk Van   \n",
              "5266  4996632444987  Truck - Modern Era Vehicles -- Red, White -  S...   \n",
              "5267  5528541003927  Car Sticker Flags Decal American Flag Sticker for   \n",
              "5268  1395163889730          Lazer Helmets Bayamo Pit Bull - Full Face   \n",
              "5269  3535679324240                             Deutz Agrotron Tractor   \n",
              "\n",
              "                 vendor                                               tags  \\\n",
              "0                Fidele  ['Adult', 'Bangalore', 'Chennai', 'Chicken', '...   \n",
              "1             Cap Point                                                 []   \n",
              "2             Pets Home  ['Brand_Pet Arabia', 'Category_Pets Home', 'Ca...   \n",
              "3             TastyBone                                                 []   \n",
              "4            Mighty Paw                 ['Leash', 'Leash Tab', 'Training']   \n",
              "...                 ...                                                ...   \n",
              "5265           Candylab  ['3 Years +', 'candylab', 'Discount Products',...   \n",
              "5266   Woodland Scenics  ['HO Scale', 'ho-scale-items', 'vehicles', 'wo...   \n",
              "5267        Cyan Selene                                          ['Other']   \n",
              "5268  OPEN BOX BARGAINS  ['65061090', 'Antiscratch Pinlock Ready Visor'...   \n",
              "5269               Siku  ['$0 to $25', 'diecast-models', 'gift-finder',...   \n",
              "\n",
              "                    category  \n",
              "0     Animals & Pet Supplies  \n",
              "1     Animals & Pet Supplies  \n",
              "2     Animals & Pet Supplies  \n",
              "3     Animals & Pet Supplies  \n",
              "4     Animals & Pet Supplies  \n",
              "...                      ...  \n",
              "5265        Vehicles & Parts  \n",
              "5266        Vehicles & Parts  \n",
              "5267        Vehicles & Parts  \n",
              "5268        Vehicles & Parts  \n",
              "5269        Vehicles & Parts  \n",
              "\n",
              "[5270 rows x 5 columns]"
            ],
            "text/html": [
              "\n",
              "  <div id=\"df-1dc262ee-14ed-4fa4-a62e-2ec9314358bc\">\n",
              "    <div class=\"colab-df-container\">\n",
              "      <div>\n",
              "<style scoped>\n",
              "    .dataframe tbody tr th:only-of-type {\n",
              "        vertical-align: middle;\n",
              "    }\n",
              "\n",
              "    .dataframe tbody tr th {\n",
              "        vertical-align: top;\n",
              "    }\n",
              "\n",
              "    .dataframe thead th {\n",
              "        text-align: right;\n",
              "    }\n",
              "</style>\n",
              "<table border=\"1\" class=\"dataframe\">\n",
              "  <thead>\n",
              "    <tr style=\"text-align: right;\">\n",
              "      <th></th>\n",
              "      <th>product_id</th>\n",
              "      <th>title</th>\n",
              "      <th>vendor</th>\n",
              "      <th>tags</th>\n",
              "      <th>category</th>\n",
              "    </tr>\n",
              "  </thead>\n",
              "  <tbody>\n",
              "    <tr>\n",
              "      <th>0</th>\n",
              "      <td>3937721221199</td>\n",
              "      <td>Fidele Super Premium Adult Large Breed Dog Food</td>\n",
              "      <td>Fidele</td>\n",
              "      <td>['Adult', 'Bangalore', 'Chennai', 'Chicken', '...</td>\n",
              "      <td>Animals &amp; Pet Supplies</td>\n",
              "    </tr>\n",
              "    <tr>\n",
              "      <th>1</th>\n",
              "      <td>7353058033889</td>\n",
              "      <td>Foldable Pet Toys Linen Storage</td>\n",
              "      <td>Cap Point</td>\n",
              "      <td>[]</td>\n",
              "      <td>Animals &amp; Pet Supplies</td>\n",
              "    </tr>\n",
              "    <tr>\n",
              "      <th>2</th>\n",
              "      <td>6594773549129</td>\n",
              "      <td>Bok Dok Diaper</td>\n",
              "      <td>Pets Home</td>\n",
              "      <td>['Brand_Pet Arabia', 'Category_Pets Home', 'Ca...</td>\n",
              "      <td>Animals &amp; Pet Supplies</td>\n",
              "    </tr>\n",
              "    <tr>\n",
              "      <th>3</th>\n",
              "      <td>4802008318014</td>\n",
              "      <td>Tastybone Toy Chicken</td>\n",
              "      <td>TastyBone</td>\n",
              "      <td>[]</td>\n",
              "      <td>Animals &amp; Pet Supplies</td>\n",
              "    </tr>\n",
              "    <tr>\n",
              "      <th>4</th>\n",
              "      <td>1779705151539</td>\n",
              "      <td>Leather Leash Tab - Short Dog Leash</td>\n",
              "      <td>Mighty Paw</td>\n",
              "      <td>['Leash', 'Leash Tab', 'Training']</td>\n",
              "      <td>Animals &amp; Pet Supplies</td>\n",
              "    </tr>\n",
              "    <tr>\n",
              "      <th>...</th>\n",
              "      <td>...</td>\n",
              "      <td>...</td>\n",
              "      <td>...</td>\n",
              "      <td>...</td>\n",
              "      <td>...</td>\n",
              "    </tr>\n",
              "    <tr>\n",
              "      <th>5265</th>\n",
              "      <td>4637089464407</td>\n",
              "      <td>Candylab MOO Milk Van</td>\n",
              "      <td>Candylab</td>\n",
              "      <td>['3 Years +', 'candylab', 'Discount Products',...</td>\n",
              "      <td>Vehicles &amp; Parts</td>\n",
              "    </tr>\n",
              "    <tr>\n",
              "      <th>5266</th>\n",
              "      <td>4996632444987</td>\n",
              "      <td>Truck - Modern Era Vehicles -- Red, White -  S...</td>\n",
              "      <td>Woodland Scenics</td>\n",
              "      <td>['HO Scale', 'ho-scale-items', 'vehicles', 'wo...</td>\n",
              "      <td>Vehicles &amp; Parts</td>\n",
              "    </tr>\n",
              "    <tr>\n",
              "      <th>5267</th>\n",
              "      <td>5528541003927</td>\n",
              "      <td>Car Sticker Flags Decal American Flag Sticker for</td>\n",
              "      <td>Cyan Selene</td>\n",
              "      <td>['Other']</td>\n",
              "      <td>Vehicles &amp; Parts</td>\n",
              "    </tr>\n",
              "    <tr>\n",
              "      <th>5268</th>\n",
              "      <td>1395163889730</td>\n",
              "      <td>Lazer Helmets Bayamo Pit Bull - Full Face</td>\n",
              "      <td>OPEN BOX BARGAINS</td>\n",
              "      <td>['65061090', 'Antiscratch Pinlock Ready Visor'...</td>\n",
              "      <td>Vehicles &amp; Parts</td>\n",
              "    </tr>\n",
              "    <tr>\n",
              "      <th>5269</th>\n",
              "      <td>3535679324240</td>\n",
              "      <td>Deutz Agrotron Tractor</td>\n",
              "      <td>Siku</td>\n",
              "      <td>['$0 to $25', 'diecast-models', 'gift-finder',...</td>\n",
              "      <td>Vehicles &amp; Parts</td>\n",
              "    </tr>\n",
              "  </tbody>\n",
              "</table>\n",
              "<p>5270 rows × 5 columns</p>\n",
              "</div>\n",
              "      <button class=\"colab-df-convert\" onclick=\"convertToInteractive('df-1dc262ee-14ed-4fa4-a62e-2ec9314358bc')\"\n",
              "              title=\"Convert this dataframe to an interactive table.\"\n",
              "              style=\"display:none;\">\n",
              "        \n",
              "  <svg xmlns=\"http://www.w3.org/2000/svg\" height=\"24px\"viewBox=\"0 0 24 24\"\n",
              "       width=\"24px\">\n",
              "    <path d=\"M0 0h24v24H0V0z\" fill=\"none\"/>\n",
              "    <path d=\"M18.56 5.44l.94 2.06.94-2.06 2.06-.94-2.06-.94-.94-2.06-.94 2.06-2.06.94zm-11 1L8.5 8.5l.94-2.06 2.06-.94-2.06-.94L8.5 2.5l-.94 2.06-2.06.94zm10 10l.94 2.06.94-2.06 2.06-.94-2.06-.94-.94-2.06-.94 2.06-2.06.94z\"/><path d=\"M17.41 7.96l-1.37-1.37c-.4-.4-.92-.59-1.43-.59-.52 0-1.04.2-1.43.59L10.3 9.45l-7.72 7.72c-.78.78-.78 2.05 0 2.83L4 21.41c.39.39.9.59 1.41.59.51 0 1.02-.2 1.41-.59l7.78-7.78 2.81-2.81c.8-.78.8-2.07 0-2.86zM5.41 20L4 18.59l7.72-7.72 1.47 1.35L5.41 20z\"/>\n",
              "  </svg>\n",
              "      </button>\n",
              "      \n",
              "  <style>\n",
              "    .colab-df-container {\n",
              "      display:flex;\n",
              "      flex-wrap:wrap;\n",
              "      gap: 12px;\n",
              "    }\n",
              "\n",
              "    .colab-df-convert {\n",
              "      background-color: #E8F0FE;\n",
              "      border: none;\n",
              "      border-radius: 50%;\n",
              "      cursor: pointer;\n",
              "      display: none;\n",
              "      fill: #1967D2;\n",
              "      height: 32px;\n",
              "      padding: 0 0 0 0;\n",
              "      width: 32px;\n",
              "    }\n",
              "\n",
              "    .colab-df-convert:hover {\n",
              "      background-color: #E2EBFA;\n",
              "      box-shadow: 0px 1px 2px rgba(60, 64, 67, 0.3), 0px 1px 3px 1px rgba(60, 64, 67, 0.15);\n",
              "      fill: #174EA6;\n",
              "    }\n",
              "\n",
              "    [theme=dark] .colab-df-convert {\n",
              "      background-color: #3B4455;\n",
              "      fill: #D2E3FC;\n",
              "    }\n",
              "\n",
              "    [theme=dark] .colab-df-convert:hover {\n",
              "      background-color: #434B5C;\n",
              "      box-shadow: 0px 1px 3px 1px rgba(0, 0, 0, 0.15);\n",
              "      filter: drop-shadow(0px 1px 2px rgba(0, 0, 0, 0.3));\n",
              "      fill: #FFFFFF;\n",
              "    }\n",
              "  </style>\n",
              "\n",
              "      <script>\n",
              "        const buttonEl =\n",
              "          document.querySelector('#df-1dc262ee-14ed-4fa4-a62e-2ec9314358bc button.colab-df-convert');\n",
              "        buttonEl.style.display =\n",
              "          google.colab.kernel.accessAllowed ? 'block' : 'none';\n",
              "\n",
              "        async function convertToInteractive(key) {\n",
              "          const element = document.querySelector('#df-1dc262ee-14ed-4fa4-a62e-2ec9314358bc');\n",
              "          const dataTable =\n",
              "            await google.colab.kernel.invokeFunction('convertToInteractive',\n",
              "                                                     [key], {});\n",
              "          if (!dataTable) return;\n",
              "\n",
              "          const docLinkHtml = 'Like what you see? Visit the ' +\n",
              "            '<a target=\"_blank\" href=https://colab.research.google.com/notebooks/data_table.ipynb>data table notebook</a>'\n",
              "            + ' to learn more about interactive tables.';\n",
              "          element.innerHTML = '';\n",
              "          dataTable['output_type'] = 'display_data';\n",
              "          await google.colab.output.renderOutput(dataTable, element);\n",
              "          const docLink = document.createElement('div');\n",
              "          docLink.innerHTML = docLinkHtml;\n",
              "          element.appendChild(docLink);\n",
              "        }\n",
              "      </script>\n",
              "    </div>\n",
              "  </div>\n",
              "  "
            ]
          },
          "metadata": {},
          "execution_count": 5
        }
      ]
    },
    {
      "cell_type": "markdown",
      "source": [
        "### Dataset Information"
      ],
      "metadata": {
        "id": "CbII9Lq6CYV5"
      }
    },
    {
      "cell_type": "code",
      "source": [
        "# counting the number of each label\n",
        "df['category'].value_counts()"
      ],
      "metadata": {
        "colab": {
          "base_uri": "https://localhost:8080/"
        },
        "id": "6E1ZDXyPlr6y",
        "outputId": "e8e77ee1-b59e-49fd-cdf8-0f09550c6673"
      },
      "execution_count": 6,
      "outputs": [
        {
          "output_type": "execute_result",
          "data": {
            "text/plain": [
              "Apparel & Accessories        1000\n",
              "Animals & Pet Supplies        500\n",
              "Food, Beverages & Tobacco     400\n",
              "Sporting Goods                400\n",
              "Luggage & Bags                400\n",
              "Home & Garden                 400\n",
              "Health & Beauty               400\n",
              "Media                         300\n",
              "Toys & Games                  300\n",
              "Furniture                     200\n",
              "Baby & Toddler                200\n",
              "Arts & Entertainment          200\n",
              "Electronics                   100\n",
              "Business & Industrial         100\n",
              "Office Supplies               100\n",
              "Vehicles & Parts              100\n",
              "Hardware                       50\n",
              "Cameras & Optics               50\n",
              "Software                       50\n",
              "Religious & Ceremonial         20\n",
              "Name: category, dtype: int64"
            ]
          },
          "metadata": {},
          "execution_count": 6
        }
      ]
    },
    {
      "cell_type": "code",
      "source": [
        "# counting how many indices are duplicated in each column\n",
        "print(f\"There are {sum(df['title'].duplicated())} duplicate title.\")\n",
        "print(f\"There are {sum(df['vendor'].duplicated())} duplicate vondor.\")\n",
        "print(f\"There are {sum(df['tags'].duplicated())} duplicate tags.\")"
      ],
      "metadata": {
        "colab": {
          "base_uri": "https://localhost:8080/"
        },
        "id": "Un_ggKoLUAEf",
        "outputId": "22e93ce4-352b-4d1c-9a1a-f5a193551569"
      },
      "execution_count": 7,
      "outputs": [
        {
          "output_type": "stream",
          "name": "stdout",
          "text": [
            "There are 0 duplicate title.\n",
            "There are 1256 duplicate vondor.\n",
            "There are 716 duplicate tags.\n"
          ]
        }
      ]
    },
    {
      "cell_type": "code",
      "source": [
        "# counting the number of Nan samples\n",
        "df.isnull().values.sum()"
      ],
      "metadata": {
        "colab": {
          "base_uri": "https://localhost:8080/"
        },
        "id": "VD95efZwCRYT",
        "outputId": "8c49657f-f644-4aeb-98c6-609f9dcc53af"
      },
      "execution_count": 8,
      "outputs": [
        {
          "output_type": "execute_result",
          "data": {
            "text/plain": [
              "3"
            ]
          },
          "metadata": {},
          "execution_count": 8
        }
      ]
    },
    {
      "cell_type": "markdown",
      "source": [
        "There are just 3 Nan samples in the dataset and we delete them."
      ],
      "metadata": {
        "id": "rhPJQuDEb8oN"
      }
    },
    {
      "cell_type": "markdown",
      "source": [
        "### Cleaning Dataset"
      ],
      "metadata": {
        "id": "PT6z8R1sCeXs"
      }
    },
    {
      "cell_type": "code",
      "source": [
        "# Edited\n",
        "# Remove 3 rows with null values on the current dataframe.\n",
        "df.dropna(axis=0, inplace=True)\n",
        "# check if null values are removed properly.\n",
        "df.isnull().values.sum()"
      ],
      "metadata": {
        "colab": {
          "base_uri": "https://localhost:8080/"
        },
        "id": "SHsosYjU2BeI",
        "outputId": "6f6aa349-beaf-4e3b-8b8a-d817c9914d5b"
      },
      "execution_count": 9,
      "outputs": [
        {
          "output_type": "execute_result",
          "data": {
            "text/plain": [
              "0"
            ]
          },
          "metadata": {},
          "execution_count": 9
        }
      ]
    },
    {
      "cell_type": "code",
      "source": [
        "# the function for extracting and standardizing the sentences\n",
        "def text_extraction(dfi):\n",
        "  # in this function, we concatenate text feature parts of the data as a sentence\n",
        "  sentence = ' '.join([dfi['title'], str(dfi['vendor']), dfi['tags']])\n",
        "  # Remove punctuations\n",
        "  sentence = re.sub('[^a-zA-Z0-9$.]', ' ', sentence)\n",
        "  # Single character removal\n",
        "  sentence = re.sub(r\"\\s+[a-zA-Z]\\s+\", ' ', sentence)\n",
        "  # Removing multiple spaces\n",
        "  sentence = re.sub(r'\\s+', ' ', sentence)\n",
        "  # Changint to lowercase\n",
        "  sentence = sentence.lower()\n",
        "  return sentence\n",
        "\n",
        "# printing 10 sample sentences\n",
        "for i in range(10):\n",
        "  print(text_extraction(df.iloc[i]))"
      ],
      "metadata": {
        "colab": {
          "base_uri": "https://localhost:8080/"
        },
        "id": "aH9UzP7-__P2",
        "outputId": "499e1444-a99c-41a7-9ae0-807e2fbdda5e"
      },
      "execution_count": 10,
      "outputs": [
        {
          "output_type": "stream",
          "name": "stdout",
          "text": [
            "fidele super premium adult large breed dog food fidele adult bangalore chennai chicken doberman dog dry foods fidele german shepherd golden retriever great dane highpriority imported labrador less than 1000 less than 2000 less than 500 mastiff orange pet nutrition \n",
            "foldable pet toys linen storage cap point \n",
            "bok dok diaper pets home brand pet arabia category pets home category small pets supplies type pet home type pet supplies \n",
            "tastybone toy chicken tastybone \n",
            "leather leash tab short dog leash mighty paw leash leash tab training \n",
            "pridebites texas guitar dog toy pride bites brand pridebites toy type plush \n",
            "burns sensitive pork potato burns 10 25 25 50 50 75 adult burns coat dog food food delivery jansale18 natural nonsale19 sensitive size 12kg size 2kg size 6kg skin \n",
            "bully sticks dog toy adog.co bully sticks dog chew toys dog toys \n",
            "kazoo tough giraffe dog toy kazoo brand kazoo june2021 kazoo material plush plush \n",
            "orgo dog biscuits fresh milk petku brand orgo category dogs dogs lifestage all lifestages orgo price rp 0 to rp 100.000 subcategory treats treats \n"
          ]
        }
      ]
    },
    {
      "cell_type": "code",
      "source": [
        "# creating the dataset\n",
        "dataset = pd.DataFrame(columns=['text', 'label'])\n",
        "for i in range(len(df)):\n",
        "  dataset = dataset.append({'text':text_extraction(df.iloc[i]), 'label':df.iloc[i]['category']}, ignore_index = True)\n",
        "\n",
        "# creating integer labels for multiclass training\n",
        "dataset['label_int'] = pd.Categorical(dataset['label']).codes\n",
        "dataset"
      ],
      "metadata": {
        "colab": {
          "base_uri": "https://localhost:8080/",
          "height": 424
        },
        "id": "7x4WG7NC9Xz3",
        "outputId": "7ae12003-e182-47e9-c4ef-1cdcf70f7372"
      },
      "execution_count": 11,
      "outputs": [
        {
          "output_type": "execute_result",
          "data": {
            "text/plain": [
              "                                                   text  \\\n",
              "0     fidele super premium adult large breed dog foo...   \n",
              "1            foldable pet toys linen storage cap point    \n",
              "2     bok dok diaper pets home brand pet arabia cate...   \n",
              "3                      tastybone toy chicken tastybone    \n",
              "4     leather leash tab short dog leash mighty paw l...   \n",
              "...                                                 ...   \n",
              "5262  candylab moo milk van candylab 3 years candyla...   \n",
              "5263  truck modern era vehicles red white scale ho w...   \n",
              "5264  car sticker flags decal american flag sticker ...   \n",
              "5265  lazer helmets bayamo pit bull full face open b...   \n",
              "5266  deutz agrotron tractor siku $0 to $25 diecast ...   \n",
              "\n",
              "                       label  label_int  \n",
              "0     Animals & Pet Supplies          0  \n",
              "1     Animals & Pet Supplies          0  \n",
              "2     Animals & Pet Supplies          0  \n",
              "3     Animals & Pet Supplies          0  \n",
              "4     Animals & Pet Supplies          0  \n",
              "...                      ...        ...  \n",
              "5262        Vehicles & Parts         19  \n",
              "5263        Vehicles & Parts         19  \n",
              "5264        Vehicles & Parts         19  \n",
              "5265        Vehicles & Parts         19  \n",
              "5266        Vehicles & Parts         19  \n",
              "\n",
              "[5267 rows x 3 columns]"
            ],
            "text/html": [
              "\n",
              "  <div id=\"df-982372ca-fd79-4b0b-900f-eb544fc92b4f\">\n",
              "    <div class=\"colab-df-container\">\n",
              "      <div>\n",
              "<style scoped>\n",
              "    .dataframe tbody tr th:only-of-type {\n",
              "        vertical-align: middle;\n",
              "    }\n",
              "\n",
              "    .dataframe tbody tr th {\n",
              "        vertical-align: top;\n",
              "    }\n",
              "\n",
              "    .dataframe thead th {\n",
              "        text-align: right;\n",
              "    }\n",
              "</style>\n",
              "<table border=\"1\" class=\"dataframe\">\n",
              "  <thead>\n",
              "    <tr style=\"text-align: right;\">\n",
              "      <th></th>\n",
              "      <th>text</th>\n",
              "      <th>label</th>\n",
              "      <th>label_int</th>\n",
              "    </tr>\n",
              "  </thead>\n",
              "  <tbody>\n",
              "    <tr>\n",
              "      <th>0</th>\n",
              "      <td>fidele super premium adult large breed dog foo...</td>\n",
              "      <td>Animals &amp; Pet Supplies</td>\n",
              "      <td>0</td>\n",
              "    </tr>\n",
              "    <tr>\n",
              "      <th>1</th>\n",
              "      <td>foldable pet toys linen storage cap point</td>\n",
              "      <td>Animals &amp; Pet Supplies</td>\n",
              "      <td>0</td>\n",
              "    </tr>\n",
              "    <tr>\n",
              "      <th>2</th>\n",
              "      <td>bok dok diaper pets home brand pet arabia cate...</td>\n",
              "      <td>Animals &amp; Pet Supplies</td>\n",
              "      <td>0</td>\n",
              "    </tr>\n",
              "    <tr>\n",
              "      <th>3</th>\n",
              "      <td>tastybone toy chicken tastybone</td>\n",
              "      <td>Animals &amp; Pet Supplies</td>\n",
              "      <td>0</td>\n",
              "    </tr>\n",
              "    <tr>\n",
              "      <th>4</th>\n",
              "      <td>leather leash tab short dog leash mighty paw l...</td>\n",
              "      <td>Animals &amp; Pet Supplies</td>\n",
              "      <td>0</td>\n",
              "    </tr>\n",
              "    <tr>\n",
              "      <th>...</th>\n",
              "      <td>...</td>\n",
              "      <td>...</td>\n",
              "      <td>...</td>\n",
              "    </tr>\n",
              "    <tr>\n",
              "      <th>5262</th>\n",
              "      <td>candylab moo milk van candylab 3 years candyla...</td>\n",
              "      <td>Vehicles &amp; Parts</td>\n",
              "      <td>19</td>\n",
              "    </tr>\n",
              "    <tr>\n",
              "      <th>5263</th>\n",
              "      <td>truck modern era vehicles red white scale ho w...</td>\n",
              "      <td>Vehicles &amp; Parts</td>\n",
              "      <td>19</td>\n",
              "    </tr>\n",
              "    <tr>\n",
              "      <th>5264</th>\n",
              "      <td>car sticker flags decal american flag sticker ...</td>\n",
              "      <td>Vehicles &amp; Parts</td>\n",
              "      <td>19</td>\n",
              "    </tr>\n",
              "    <tr>\n",
              "      <th>5265</th>\n",
              "      <td>lazer helmets bayamo pit bull full face open b...</td>\n",
              "      <td>Vehicles &amp; Parts</td>\n",
              "      <td>19</td>\n",
              "    </tr>\n",
              "    <tr>\n",
              "      <th>5266</th>\n",
              "      <td>deutz agrotron tractor siku $0 to $25 diecast ...</td>\n",
              "      <td>Vehicles &amp; Parts</td>\n",
              "      <td>19</td>\n",
              "    </tr>\n",
              "  </tbody>\n",
              "</table>\n",
              "<p>5267 rows × 3 columns</p>\n",
              "</div>\n",
              "      <button class=\"colab-df-convert\" onclick=\"convertToInteractive('df-982372ca-fd79-4b0b-900f-eb544fc92b4f')\"\n",
              "              title=\"Convert this dataframe to an interactive table.\"\n",
              "              style=\"display:none;\">\n",
              "        \n",
              "  <svg xmlns=\"http://www.w3.org/2000/svg\" height=\"24px\"viewBox=\"0 0 24 24\"\n",
              "       width=\"24px\">\n",
              "    <path d=\"M0 0h24v24H0V0z\" fill=\"none\"/>\n",
              "    <path d=\"M18.56 5.44l.94 2.06.94-2.06 2.06-.94-2.06-.94-.94-2.06-.94 2.06-2.06.94zm-11 1L8.5 8.5l.94-2.06 2.06-.94-2.06-.94L8.5 2.5l-.94 2.06-2.06.94zm10 10l.94 2.06.94-2.06 2.06-.94-2.06-.94-.94-2.06-.94 2.06-2.06.94z\"/><path d=\"M17.41 7.96l-1.37-1.37c-.4-.4-.92-.59-1.43-.59-.52 0-1.04.2-1.43.59L10.3 9.45l-7.72 7.72c-.78.78-.78 2.05 0 2.83L4 21.41c.39.39.9.59 1.41.59.51 0 1.02-.2 1.41-.59l7.78-7.78 2.81-2.81c.8-.78.8-2.07 0-2.86zM5.41 20L4 18.59l7.72-7.72 1.47 1.35L5.41 20z\"/>\n",
              "  </svg>\n",
              "      </button>\n",
              "      \n",
              "  <style>\n",
              "    .colab-df-container {\n",
              "      display:flex;\n",
              "      flex-wrap:wrap;\n",
              "      gap: 12px;\n",
              "    }\n",
              "\n",
              "    .colab-df-convert {\n",
              "      background-color: #E8F0FE;\n",
              "      border: none;\n",
              "      border-radius: 50%;\n",
              "      cursor: pointer;\n",
              "      display: none;\n",
              "      fill: #1967D2;\n",
              "      height: 32px;\n",
              "      padding: 0 0 0 0;\n",
              "      width: 32px;\n",
              "    }\n",
              "\n",
              "    .colab-df-convert:hover {\n",
              "      background-color: #E2EBFA;\n",
              "      box-shadow: 0px 1px 2px rgba(60, 64, 67, 0.3), 0px 1px 3px 1px rgba(60, 64, 67, 0.15);\n",
              "      fill: #174EA6;\n",
              "    }\n",
              "\n",
              "    [theme=dark] .colab-df-convert {\n",
              "      background-color: #3B4455;\n",
              "      fill: #D2E3FC;\n",
              "    }\n",
              "\n",
              "    [theme=dark] .colab-df-convert:hover {\n",
              "      background-color: #434B5C;\n",
              "      box-shadow: 0px 1px 3px 1px rgba(0, 0, 0, 0.15);\n",
              "      filter: drop-shadow(0px 1px 2px rgba(0, 0, 0, 0.3));\n",
              "      fill: #FFFFFF;\n",
              "    }\n",
              "  </style>\n",
              "\n",
              "      <script>\n",
              "        const buttonEl =\n",
              "          document.querySelector('#df-982372ca-fd79-4b0b-900f-eb544fc92b4f button.colab-df-convert');\n",
              "        buttonEl.style.display =\n",
              "          google.colab.kernel.accessAllowed ? 'block' : 'none';\n",
              "\n",
              "        async function convertToInteractive(key) {\n",
              "          const element = document.querySelector('#df-982372ca-fd79-4b0b-900f-eb544fc92b4f');\n",
              "          const dataTable =\n",
              "            await google.colab.kernel.invokeFunction('convertToInteractive',\n",
              "                                                     [key], {});\n",
              "          if (!dataTable) return;\n",
              "\n",
              "          const docLinkHtml = 'Like what you see? Visit the ' +\n",
              "            '<a target=\"_blank\" href=https://colab.research.google.com/notebooks/data_table.ipynb>data table notebook</a>'\n",
              "            + ' to learn more about interactive tables.';\n",
              "          element.innerHTML = '';\n",
              "          dataTable['output_type'] = 'display_data';\n",
              "          await google.colab.output.renderOutput(dataTable, element);\n",
              "          const docLink = document.createElement('div');\n",
              "          docLink.innerHTML = docLinkHtml;\n",
              "          element.appendChild(docLink);\n",
              "        }\n",
              "      </script>\n",
              "    </div>\n",
              "  </div>\n",
              "  "
            ]
          },
          "metadata": {},
          "execution_count": 11
        }
      ]
    },
    {
      "cell_type": "code",
      "source": [
        "# extracting the names of the labels\n",
        "labels_names = list(Counter(dataset['label']).keys())\n",
        "labels_names"
      ],
      "metadata": {
        "colab": {
          "base_uri": "https://localhost:8080/"
        },
        "id": "9uHdTY3p9Xfr",
        "outputId": "5d05de5d-4674-4a61-fef6-90185927214e"
      },
      "execution_count": 12,
      "outputs": [
        {
          "output_type": "execute_result",
          "data": {
            "text/plain": [
              "['Animals & Pet Supplies',\n",
              " 'Apparel & Accessories',\n",
              " 'Arts & Entertainment',\n",
              " 'Baby & Toddler',\n",
              " 'Business & Industrial',\n",
              " 'Cameras & Optics',\n",
              " 'Electronics',\n",
              " 'Food, Beverages & Tobacco',\n",
              " 'Furniture',\n",
              " 'Hardware',\n",
              " 'Health & Beauty',\n",
              " 'Home & Garden',\n",
              " 'Luggage & Bags',\n",
              " 'Media',\n",
              " 'Office Supplies',\n",
              " 'Religious & Ceremonial',\n",
              " 'Software',\n",
              " 'Sporting Goods',\n",
              " 'Toys & Games',\n",
              " 'Vehicles & Parts']"
            ]
          },
          "metadata": {},
          "execution_count": 12
        }
      ]
    },
    {
      "cell_type": "code",
      "source": [
        "# printing each integer label and its corresponding name label\n",
        "for i, label in enumerate(labels_names):\n",
        "  print(\"Label\", i, \"corresponds to\", label)"
      ],
      "metadata": {
        "colab": {
          "base_uri": "https://localhost:8080/"
        },
        "id": "QXCgd6QTC_k6",
        "outputId": "516acc65-674d-43b4-a95d-b5a565fe6ee7"
      },
      "execution_count": 13,
      "outputs": [
        {
          "output_type": "stream",
          "name": "stdout",
          "text": [
            "Label 0 corresponds to Animals & Pet Supplies\n",
            "Label 1 corresponds to Apparel & Accessories\n",
            "Label 2 corresponds to Arts & Entertainment\n",
            "Label 3 corresponds to Baby & Toddler\n",
            "Label 4 corresponds to Business & Industrial\n",
            "Label 5 corresponds to Cameras & Optics\n",
            "Label 6 corresponds to Electronics\n",
            "Label 7 corresponds to Food, Beverages & Tobacco\n",
            "Label 8 corresponds to Furniture\n",
            "Label 9 corresponds to Hardware\n",
            "Label 10 corresponds to Health & Beauty\n",
            "Label 11 corresponds to Home & Garden\n",
            "Label 12 corresponds to Luggage & Bags\n",
            "Label 13 corresponds to Media\n",
            "Label 14 corresponds to Office Supplies\n",
            "Label 15 corresponds to Religious & Ceremonial\n",
            "Label 16 corresponds to Software\n",
            "Label 17 corresponds to Sporting Goods\n",
            "Label 18 corresponds to Toys & Games\n",
            "Label 19 corresponds to Vehicles & Parts\n"
          ]
        }
      ]
    },
    {
      "cell_type": "markdown",
      "source": [
        "## DataFrames"
      ],
      "metadata": {
        "id": "EXOx96NLDD98"
      }
    },
    {
      "cell_type": "code",
      "source": [
        "# splitting dataset to train, validation, and test dataframes\n",
        "train_df, test_df= train_test_split(dataset, test_size=0.2, random_state=42)\n",
        "val_df = test_df.sample(frac=0.5)\n",
        "test_df.drop(val_df.index, inplace=True)\n",
        "\n",
        "print(f\"Number of samples in training set: {len(train_df)}\")\n",
        "print(f\"Number of samples in validation set: {len(val_df)}\")\n",
        "print(f\"Number of samples in test set: {len(test_df)}\")\n",
        "\n",
        "# extracting texts and labels from dataframes\n",
        "train_texts = train_df['text']\n",
        "train_labels = train_df['label_int']\n",
        "val_texts = val_df['text']\n",
        "val_labels = val_df['label_int']\n",
        "test_texts = test_df['text']\n",
        "test_labels = test_df['label_int']"
      ],
      "metadata": {
        "colab": {
          "base_uri": "https://localhost:8080/"
        },
        "id": "bWd2Rfp69X8g",
        "outputId": "7d47cbc0-a383-4727-cb84-5d9dcc9264cd"
      },
      "execution_count": 14,
      "outputs": [
        {
          "output_type": "stream",
          "name": "stdout",
          "text": [
            "Number of samples in training set: 4213\n",
            "Number of samples in validation set: 527\n",
            "Number of samples in test set: 527\n"
          ]
        }
      ]
    },
    {
      "cell_type": "code",
      "source": [
        "# creating data generators with batch size 32\n",
        "batch_size = 50\n",
        "raw_train_batch = tf.data.Dataset.from_tensor_slices((train_texts, train_labels)).batch(batch_size)\n",
        "raw_val_batch = tf.data.Dataset.from_tensor_slices((val_texts, val_labels)).batch(batch_size)\n",
        "raw_test_batch = tf.data.Dataset.from_tensor_slices((test_texts, test_labels)).batch(batch_size)\n",
        "\n",
        "# printing texts and labels of a batch of raw train\n",
        "for text, label in raw_train_batch.take(1):\n",
        "  print('Texts: {}'.format(text))\n",
        "  print('labels: {}'.format(label))"
      ],
      "metadata": {
        "colab": {
          "base_uri": "https://localhost:8080/"
        },
        "id": "C4kA4X60zkC3",
        "outputId": "0548a7ca-e76f-48ca-a7cf-6ddc68c17020"
      },
      "execution_count": 15,
      "outputs": [
        {
          "output_type": "stream",
          "name": "stdout",
          "text": [
            "Texts: [b'seachem multitest ammonia seachem '\n",
            " b'smart electric cat teasing toy pet clever cat toys cats rr track catproducts rr track cattoys '\n",
            " b'ocean hunter wood sculpture novica united inc assembly required 492 assembly requiredstr no assembly required class home accessories classid 581 color 5829 colorstr brown department decor departmentid 542 margin 60 material style 33 stylestr modern subclass home accessories subclassid 793 '\n",
            " b'impala rollerskates leopard impala cheetah impala leopard red roller skate rollerskate skate skates vegan '\n",
            " b'diy personalised dreamcatcher activity kit sea animal doxbox store '\n",
            " b'treasure by estetica remy human hair wig closeout estetica liquid show percent off show percent off '\n",
            " b'etching cl grenadine drapery upholstery fabric by kaufmann kaufmann hidden pk ikat khaki multi color print red shop fabric throw pillows trim wallpaper ikat shop fabric throw pillows trim wallpaper kaufmann shop fabric throw pillows trim wallpaper prints '\n",
            " b'bleed proof white opaque watercolor paint dr. ph martin brand drphmartin dr. ph martin flashsale0621 medium medium artjournaling paint priority tutorial fallpumpkin tutorial fancyfeather tutorial galaxywolf tutorial nebula type paint '\n",
            " b'party suede peep toe embellished chunky heel sandals meet yours fashion chunky heel sandals club sandals dress sandals fashion sandals heel sandals high heel sandals new arrivals open toe sandals party sandals peep toe sandals plus size sandals sandals suede sandals summer sandals '\n",
            " b'sea grass rolling tip empire glassworks rolling tip unfinished '\n",
            " b'interactive iq treat ball toy for dogs cats cj feeder waterer pet supplies '\n",
            " b'danek black nubuck stevemadden danek black nubuck danek black boots brand blondo category men shoes cf size 10 cf size 10 5 cf size 11 cf size 12 cf size 7 5 cf size 8 cf size 8 5 cf size 9 cf size 9 5 color black flat 0 1 inch full price in stock ready to ship low 1 2 inches men new price over $150 scm category boots men style lace up style leather style waterproof type boots waterproof '\n",
            " b'just female hilda pleated skirt oranges print just female hilda just female midi pleated sheer spo disabled '\n",
            " b'natural factors sambucus black elderberry natural factors 068958047072 cold flu treatment immune support new nf04707 '\n",
            " b'the triumph iii briefcase lotuff leather '\n",
            " b'p.l.a.y. zoomierex fantastug sea foam dog toy p.l.a.y. brand p.l.a.y. summer collection toy type fetch toy type floating toy type rubber toy type tug twr '\n",
            " b'luggage tag nantucket maya traditions accessories all accessories collection all wholesale collection bag charms bis hidden by recipient for galentines by recipient for the long distance friend filter artisan maya traditions filter color green filter country guatemala filter materials cotton finalsale cart flexify gift guide under $25 collection graduation gifts collection green guatemala last chance collection luggage tags maya traditions maya traditions collections travel travel accessories collection wholesale wholesale travel collection wipd2020 woven '\n",
            " b'wide openning diaper bag backpack maroon chronos baby bag baby bag for mommy baby bags baby bags for mom baby changing bag baby diaper bag backpack bag bags changing bag designer bag diaper bag diaper bag backpack fashion bag free shipping bags maternity bag mom bag mommy bag mummy bag nappy bag stroller bag travel bag travel bag organizer waterproof bag '\n",
            " b'knorr potato mushroom steinpilz soup knorr brands knorr categories soups countries germany cream german germany ingredients cream ingredients mushroom ingredients potatoes knorr pantry seasonings spices spice storage pantry '\n",
            " b'inkolo side table uniqwa category furniture category occasional tables category tables deposit latest item range african furniture range island resort range organic '\n",
            " b'jabberwocky jellybean games availability in stock category children google true inv product type board games '\n",
            " b'black agate ring large in charge power stone adjustable bronze dig crystals agate black bronze chakra root chakra color black color bronze intentions protection jewelry jewelry rings protection crystals ring size adjustable rings rings metal root chakra stone agate type jewelry '\n",
            " b'tabs tattoo artist barrier sheets hextat barrier covid hextat medical '\n",
            " b'dog pakiet dnp pc skin support pick me pets brand dolina noteci category pet supplies type dog food '\n",
            " b'organic lace ruffle bib various colors ovedbaby bib bibs sale '\n",
            " b'silver white clear rhinestones metal band one size all decd out one size band rhinestones silver '\n",
            " b'hanover lavallette umbrella in blue lavalletteumb hanover hanover outdoor furniture umbrellas '\n",
            " b'braided bone orange tall tails brand tall tails pet dogs price $20.00 $29.99 type interactive toys '\n",
            " b'brother bond cask strength bourbon whiskey brother bond tab1 about brothers bond brothers bond engraving fall flavors father day memorial day size 750ml whiskey youngs '\n",
            " b'imex phillips drive drywall zinc screws imex imex screws washers tools '\n",
            " b'playground patchwork backpack primecut '\n",
            " b'giant jenga block game all things for kids giant games in stock outdoor games spo disabled wooden toys '\n",
            " b'hal leonard perfect pitch method hal leonard always show discount allowed for instrument any hal leonard lessons practice music theory reference sheet music any sheet music category lessons practice sheet music category theory reference spo default spo enabled '\n",
            " b'ken ultra premium egg yolk flake ken fish food flake food kens kens ultra '\n",
            " b'carlton unisex squash badminton running goggle carlton carlton r cricket '\n",
            " b'drill knowledge battling vs the wall infamous paintball advanced video kevin kali rudulph members everything members only members only video '\n",
            " b'shimmer silk crinkle chiffon black the fabric store online category crinkle chiffon category sheer category silk category woven color black color metallic colour black colour metallic print no pattern product fabric product wovens project dresses tunics project occasionwear project shirts tops remnant sale stretch non stretch weight lightweight width 126 155cm width 50 60 '\n",
            " b'warrior official canada lacrosse game ball warrior ball canada game lacrosse official warrior white '\n",
            " b'duca by matiste fermo duca by matiste '\n",
            " b'flat hoop matsu jewellery handmade hoops silver silver earring silver stud sterling silver sterling silver stud '\n",
            " b'car culture hat chemical guys best chemical guys clothing gift hat hats merchandise new '\n",
            " b'lettia memory foam clik all purpose girth lettia dropship union girths horse new tack '\n",
            " b'iron flamingo pink lady belgian wit ale iron flamingo beer cola iron flamingo '\n",
            " b'finner bench arteriors benches new '\n",
            " b'sleeping bag storage sack mont dry bags and accessories packs sleeping bag sleeping bag storage sack sleeping bags '\n",
            " b'retractable everywhere table tennis set ecomstock baby toddler toys '\n",
            " b'euca poplin super random dot toko ncit 100 tencel 714a 715d composition tencel fabric woven type print '\n",
            " b'nfl rico industries bling chrome license plate frame with glitter accent new... rico industries 12.25 inches accent afco afco au afco aub00j10lv9o bling chrome color fcgl1401 featured from research featured item frame giants glitter industries license new nfl plate price 20 rico ship to us team with york '\n",
            " b'sunrise bow tie puccissime pet couture handmade dog accessories luxury dog products pet supplies '\n",
            " b'inflatable backpacking sleeping pad with pillow camping hiking mat harry jean backpacking sleeping pad best air mattress for camping best backpacking sleeping pad best camping bed best camping mattress best camping sleeping pad best sleeping pad camping air bed camping mat camping mattress camping mattress pad camping pad camping sleeping mats camping sleeping pad inflatable camping mattress sleeping mat sleeping pad sleeping pads for camping ']\n",
            "labels: [ 0  0 11 17  0  1  2  9  1 11  0  1  1 10 12  0 12 12  7  8 18  1  4  0\n",
            "  3  1  8  0  7  9 12 18 13  0 17  6  2 17  1  1  1 17  7  8 17  3  2 17\n",
            "  0 17]\n"
          ]
        }
      ]
    },
    {
      "cell_type": "markdown",
      "source": [
        "### Information"
      ],
      "metadata": {
        "id": "NwpAejboDvHR"
      }
    },
    {
      "cell_type": "code",
      "source": [
        "# counting how many words are there in the whole texts of the dataset\n",
        "num_of_words = 0\n",
        "for i in dataset['text']: num_of_words += len(i.split())\n",
        "\n",
        "print('Number of words: {}'.format(num_of_words))"
      ],
      "metadata": {
        "colab": {
          "base_uri": "https://localhost:8080/"
        },
        "id": "P2QpUriFrsU_",
        "outputId": "f630d3b7-6dbb-4a1f-8f1e-85a059597dcb"
      },
      "execution_count": 16,
      "outputs": [
        {
          "output_type": "stream",
          "name": "stdout",
          "text": [
            "Number of words: 112524\n"
          ]
        }
      ]
    },
    {
      "cell_type": "markdown",
      "source": [
        "There are about 112000 words in the texts.\n",
        "\n"
      ],
      "metadata": {
        "id": "wfw3CqfZsWyT"
      }
    },
    {
      "cell_type": "code",
      "source": [
        "# Edited\n",
        "# Counting max sequence length and how many non-repetitive words are there in the whole texts of the dataset\n",
        "# Remove words repeated more that threshold. --> Remove outlier words\n",
        "\n",
        "# Variables\n",
        "non_repetitive_list = [] # List of all non repetitive words\n",
        "words = {}               # Store all the words\n",
        "max_seq_lenght = 0       # Max sequence\n",
        "threshold = 800\n",
        "\n",
        "# Iterate rows\n",
        "for row in dataset.itertuples(index=True):\n",
        "  index = getattr(row,'Index')\n",
        "  text = getattr(row,'text')\n",
        "  new_text = text \n",
        "\n",
        "  for each_word in text.split():\n",
        "    if each_word not in non_repetitive_list: non_repetitive_list.append(each_word)\n",
        "\n",
        "    # Update the dictionary and remove the word passing the threshold \n",
        "    # from keras.preprocessing.text import Tokenizer, could also be used \n",
        "    if each_word in words.keys():\n",
        "      if  words[each_word] >= threshold: \n",
        "        new_text = new_text.replace(each_word, '')\n",
        "      value = words[each_word]\n",
        "      words.update({each_word: value+1})\n",
        "    else: words[each_word]=1\n",
        "  \n",
        "  dataset.at[index, 'text'] = new_text \n",
        "  lenght = len(new_text.split())\n",
        "  if lenght > max_seq_lenght: max_seq_lenght = lenght\n",
        "\n",
        "print('Max sequence length: {}'.format(max_seq_lenght))\n",
        "print('Non-repetitive words: {}'.format(len(non_repetitive_list)))"
      ],
      "metadata": {
        "colab": {
          "base_uri": "https://localhost:8080/"
        },
        "id": "2ufQzaF9ncqZ",
        "outputId": "2db35cd8-e29d-4ebc-b785-c6526dc7262f"
      },
      "execution_count": 17,
      "outputs": [
        {
          "output_type": "stream",
          "name": "stdout",
          "text": [
            "Max sequence length: 309\n",
            "Non-repetitive words: 18927\n"
          ]
        }
      ]
    },
    {
      "cell_type": "markdown",
      "source": [
        "Maximum sequence length is 309 and There are about 19000 non-repetitive words in the whole dataset texts. So we set max word features to 10000 and sequence length to 310."
      ],
      "metadata": {
        "id": "cGGf8rQorkSR"
      }
    },
    {
      "cell_type": "markdown",
      "source": [
        "### Preprocessing"
      ],
      "metadata": {
        "id": "uzLtURj5EeEI"
      }
    },
    {
      "cell_type": "code",
      "source": [
        "# setting the text vectorization layer with 10000 words and 310 sequence length\n",
        "max_features = 10000\n",
        "sequence_length = max_seq_lenght + 1\n",
        "\n",
        "vectorize_layer = layers.TextVectorization(\n",
        "    max_tokens=max_features,\n",
        "    output_mode='int',\n",
        "    output_sequence_length=sequence_length)\n",
        "\n",
        "# fitting the state of the preprocessing layer to the train set. This will cause the model to build an index of strings to integers.\n",
        "vectorize_layer.adapt(train_texts)\n",
        "\n",
        "# defining the vectorize text function\n",
        "def vectorize_text(text, label):\n",
        "  text = tf.expand_dims(text, -1)\n",
        "  return vectorize_layer(text), label\n",
        "\n",
        "# retrieving a sample from a batch of texts and labels from the train set\n",
        "text_batch, label_batch = next(iter(raw_train_batch))\n",
        "first_review, first_label = text_batch[0], label_batch[0]\n",
        "print(\"Review\", first_review)\n",
        "print(\"Label\", first_label)\n",
        "print(\"Vectorized text\", vectorize_text(first_review, first_label))"
      ],
      "metadata": {
        "colab": {
          "base_uri": "https://localhost:8080/"
        },
        "id": "Ey2QJjO97T9P",
        "outputId": "32a63409-6443-4b7c-b06a-3db5c4bebc3a"
      },
      "execution_count": 18,
      "outputs": [
        {
          "output_type": "stream",
          "name": "stdout",
          "text": [
            "Review tf.Tensor(b'seachem multitest ammonia seachem ', shape=(), dtype=string)\n",
            "Label tf.Tensor(0, shape=(), dtype=int8)\n",
            "Vectorized text (<tf.Tensor: shape=(1, 310), dtype=int64, numpy=\n",
            "array([[2075, 6580,    1, 2075,    0,    0,    0,    0,    0,    0,    0,\n",
            "           0,    0,    0,    0,    0,    0,    0,    0,    0,    0,    0,\n",
            "           0,    0,    0,    0,    0,    0,    0,    0,    0,    0,    0,\n",
            "           0,    0,    0,    0,    0,    0,    0,    0,    0,    0,    0,\n",
            "           0,    0,    0,    0,    0,    0,    0,    0,    0,    0,    0,\n",
            "           0,    0,    0,    0,    0,    0,    0,    0,    0,    0,    0,\n",
            "           0,    0,    0,    0,    0,    0,    0,    0,    0,    0,    0,\n",
            "           0,    0,    0,    0,    0,    0,    0,    0,    0,    0,    0,\n",
            "           0,    0,    0,    0,    0,    0,    0,    0,    0,    0,    0,\n",
            "           0,    0,    0,    0,    0,    0,    0,    0,    0,    0,    0,\n",
            "           0,    0,    0,    0,    0,    0,    0,    0,    0,    0,    0,\n",
            "           0,    0,    0,    0,    0,    0,    0,    0,    0,    0,    0,\n",
            "           0,    0,    0,    0,    0,    0,    0,    0,    0,    0,    0,\n",
            "           0,    0,    0,    0,    0,    0,    0,    0,    0,    0,    0,\n",
            "           0,    0,    0,    0,    0,    0,    0,    0,    0,    0,    0,\n",
            "           0,    0,    0,    0,    0,    0,    0,    0,    0,    0,    0,\n",
            "           0,    0,    0,    0,    0,    0,    0,    0,    0,    0,    0,\n",
            "           0,    0,    0,    0,    0,    0,    0,    0,    0,    0,    0,\n",
            "           0,    0,    0,    0,    0,    0,    0,    0,    0,    0,    0,\n",
            "           0,    0,    0,    0,    0,    0,    0,    0,    0,    0,    0,\n",
            "           0,    0,    0,    0,    0,    0,    0,    0,    0,    0,    0,\n",
            "           0,    0,    0,    0,    0,    0,    0,    0,    0,    0,    0,\n",
            "           0,    0,    0,    0,    0,    0,    0,    0,    0,    0,    0,\n",
            "           0,    0,    0,    0,    0,    0,    0,    0,    0,    0,    0,\n",
            "           0,    0,    0,    0,    0,    0,    0,    0,    0,    0,    0,\n",
            "           0,    0,    0,    0,    0,    0,    0,    0,    0,    0,    0,\n",
            "           0,    0,    0,    0,    0,    0,    0,    0,    0,    0,    0,\n",
            "           0,    0,    0,    0,    0,    0,    0,    0,    0,    0,    0,\n",
            "           0,    0]])>, <tf.Tensor: shape=(), dtype=int8, numpy=0>)\n"
          ]
        }
      ]
    },
    {
      "cell_type": "code",
      "source": [
        "# getting corresponding word of each integer \n",
        "print(\"1401 ---> \",vectorize_layer.get_vocabulary()[1401])\n",
        "print(\" 313 ---> \",vectorize_layer.get_vocabulary()[313])\n",
        "print('Vocabulary size: {}'.format(len(vectorize_layer.get_vocabulary())))"
      ],
      "metadata": {
        "colab": {
          "base_uri": "https://localhost:8080/"
        },
        "id": "X84dkB768GSx",
        "outputId": "a4581774-9d2a-4fc8-c924-5aee60c2486a"
      },
      "execution_count": 19,
      "outputs": [
        {
          "output_type": "stream",
          "name": "stdout",
          "text": [
            "1401 --->  moderate\n",
            " 313 --->  soft\n",
            "Vocabulary size: 10000\n"
          ]
        }
      ]
    },
    {
      "cell_type": "markdown",
      "source": [
        "## Model's Input "
      ],
      "metadata": {
        "id": "kj9xHgbGE7Tt"
      }
    },
    {
      "cell_type": "code",
      "source": [
        "# creating train, val, and test vectorized dataset and prefetching them\n",
        "train_ds = raw_train_batch.map(vectorize_text)\n",
        "val_ds = raw_val_batch.map(vectorize_text)\n",
        "test_ds = raw_test_batch.map(vectorize_text)\n",
        "\n",
        "AUTOTUNE = tf.data.AUTOTUNE\n",
        "\n",
        "train_ds = train_ds.cache().prefetch(buffer_size=AUTOTUNE)\n",
        "val_ds = val_ds.cache().prefetch(buffer_size=AUTOTUNE)\n",
        "test_ds = test_ds.cache().prefetch(buffer_size=AUTOTUNE)"
      ],
      "metadata": {
        "id": "DiW717GQ_77D"
      },
      "execution_count": 20,
      "outputs": []
    },
    {
      "cell_type": "code",
      "source": [
        "# Edited\n",
        "train_text = []\n",
        "train_labels = []\n",
        "for text, labels in train_ds:\n",
        "  train_text.append(text)\n",
        "  train_labels.append(labels)\n",
        "\n",
        "test_text = []\n",
        "test_labels = []\n",
        "for text, labels in test_ds:\n",
        "  test_text.append(text)\n",
        "  test_labels.append(labels)"
      ],
      "metadata": {
        "id": "fV18RCKjRFxf"
      },
      "execution_count": 21,
      "outputs": []
    },
    {
      "cell_type": "code",
      "source": [
        "# A parameter grid for XGBoost\n",
        "# params = {\n",
        "#         'min_child_weight': [1, 5, 10],\n",
        "#         'gamma': [0.5, 1, 1.5, 2, 5],\n",
        "#         'subsample': [0.6, 0.8, 1.0],\n",
        "#         'colsample_bytree': [0.6, 0.8, 1.0],\n",
        "#         'max_depth': [3, 4, 5]\n",
        "#         }\n",
        "# xgb = XGBClassifier(learning_rate=0.02, n_estimators=600, objective='binary:logistic',\n",
        "#                     silent=True, nthread=1)\n",
        "# folds = 3\n",
        "# param_comb = 5\n",
        "# # train_texts_df, train_labels_df\n",
        "# skf = StratifiedKFold(n_splits=folds, shuffle = True, random_state = 1001)\n",
        "# random_search = RandomizedSearchCV(xgb, param_distributions=params, n_iter=param_comb, scoring='roc_auc', n_jobs=4, verbose=3, random_state=1001 )\n",
        "# random_search.fit(torch.Tensor(train_text), torch.Tensor(train_labels))"
      ],
      "metadata": {
        "id": "kGrxY49bBcfa"
      },
      "execution_count": 22,
      "outputs": []
    },
    {
      "cell_type": "code",
      "source": [
        "# Edited\n",
        "def create_model(num_filters, kernel_size, vocab_size, sequence_length, embedding_dim,hidden_dims,num_of_classes):\n",
        "  # Created Embedding (Input) Layer (max_words) --> Convolutional Layer\n",
        "  model = tf.keras.Sequential([\n",
        "  layers.Embedding(input_dim=vocab_size,                              # input_dim: the size of the vocabulary\n",
        "                   output_dim=embedding_dim,                          # output_dim: the size of the dense vector\n",
        "                   input_length=sequence_length),                     # input_length: the length of the sequence\n",
        "  \n",
        "\n",
        "  # Create the convolutional layer\n",
        "  layers.Conv1D(num_filters, kernel_size, padding='valid', activation='relu', strides=1),\n",
        "  # Create the pooling layer\n",
        "  layers.GlobalMaxPool1D(),\n",
        "  layers.Dropout(0.95),\n",
        "  # layers.Dense(hidden_dims),\n",
        "  # layers.Activation('relu'),\n",
        "  # layers.Dropout(0.75),\n",
        "\n",
        "  # Create the output layer\n",
        "  layers.Dense(num_of_classes),\n",
        "  layers.Activation('softmax'),\n",
        "  ])\n",
        "  model.summary()\n",
        "  return model"
      ],
      "metadata": {
        "id": "5eczALl5KZNI"
      },
      "execution_count": 39,
      "outputs": []
    },
    {
      "cell_type": "code",
      "source": [
        "# Edited\n",
        "# model configuration\n",
        "\n",
        "# hyper parameters\n",
        "epochs = 200\n",
        "vocab_size = len(vectorize_layer.get_vocabulary())\n",
        "\n",
        "\n",
        "# num_filters, kernel_size, vocab_size, sequence_length, embedding_dim,hidden_dims,num_of_classes\n",
        "model = create_model(250, 5, vocab_size, sequence_length, 50, 150, len(labels_names))"
      ],
      "metadata": {
        "colab": {
          "base_uri": "https://localhost:8080/"
        },
        "id": "BBHmGG_SAWhp",
        "outputId": "12524458-75ca-4ee9-9920-29b1ab0112cd"
      },
      "execution_count": 40,
      "outputs": [
        {
          "output_type": "stream",
          "name": "stdout",
          "text": [
            "Model: \"sequential_2\"\n",
            "_________________________________________________________________\n",
            " Layer (type)                Output Shape              Param #   \n",
            "=================================================================\n",
            " embedding_1 (Embedding)     (None, 310, 50)           500000    \n",
            "                                                                 \n",
            " conv1d_1 (Conv1D)           (None, 306, 250)          62750     \n",
            "                                                                 \n",
            " global_max_pooling1d_1 (Glo  (None, 250)              0         \n",
            " balMaxPooling1D)                                                \n",
            "                                                                 \n",
            " dropout_2 (Dropout)         (None, 250)               0         \n",
            "                                                                 \n",
            " dense_1 (Dense)             (None, 20)                5020      \n",
            "                                                                 \n",
            " activation_2 (Activation)   (None, 20)                0         \n",
            "                                                                 \n",
            "=================================================================\n",
            "Total params: 567,770\n",
            "Trainable params: 567,770\n",
            "Non-trainable params: 0\n",
            "_________________________________________________________________\n"
          ]
        }
      ]
    },
    {
      "cell_type": "markdown",
      "source": [
        "## Initialzing Model"
      ],
      "metadata": {
        "id": "m7nPZlvUFJSi"
      }
    },
    {
      "cell_type": "code",
      "source": [
        "loss_fn = tf.keras.losses.SparseCategoricalCrossentropy()\n",
        "optimizer = tf.keras.optimizers.SGD(learning_rate=0.007, momentum=0.8, nesterov=True)\n",
        "\n",
        "# model compilation\n",
        "model.compile(optimizer=optimizer,\n",
        "              loss=loss_fn,\n",
        "              metrics=['accuracy'])"
      ],
      "metadata": {
        "id": "uL6c-YGfAwLz"
      },
      "execution_count": 41,
      "outputs": []
    },
    {
      "cell_type": "markdown",
      "source": [
        "### Train"
      ],
      "metadata": {
        "id": "eEE6yxpOFUoX"
      }
    },
    {
      "cell_type": "code",
      "source": [
        "# training the model\n",
        "callbacks = [\n",
        "    tf.keras.callbacks.EarlyStopping(monitor='val_loss', patience=5, verbose=1),\n",
        "    tf.keras.callbacks.ModelCheckpoint(filepath='model.{epoch:02d}-{val_loss:.2f}.h5'),\n",
        "]\n",
        "\n",
        "history = model.fit(train_ds,\n",
        "                    verbose= True,\n",
        "                    validation_data=val_ds,\n",
        "                    epochs=epochs,\n",
        "                    callbacks=callbacks)"
      ],
      "metadata": {
        "colab": {
          "base_uri": "https://localhost:8080/"
        },
        "id": "CIfmPA3SvX4d",
        "outputId": "a3d8f450-1ee9-4878-9161-eb5f82160182"
      },
      "execution_count": 42,
      "outputs": [
        {
          "output_type": "stream",
          "name": "stdout",
          "text": [
            "Epoch 1/200\n",
            "85/85 [==============================] - 3s 28ms/step - loss: 2.9281 - accuracy: 0.1251 - val_loss: 2.8176 - val_accuracy: 0.1992\n",
            "Epoch 2/200\n",
            "85/85 [==============================] - 1s 8ms/step - loss: 2.8286 - accuracy: 0.1818 - val_loss: 2.7464 - val_accuracy: 0.1992\n",
            "Epoch 3/200\n",
            "85/85 [==============================] - 1s 6ms/step - loss: 2.7854 - accuracy: 0.1854 - val_loss: 2.7103 - val_accuracy: 0.1992\n",
            "Epoch 4/200\n",
            "85/85 [==============================] - 1s 6ms/step - loss: 2.7541 - accuracy: 0.1818 - val_loss: 2.6854 - val_accuracy: 0.1992\n",
            "Epoch 5/200\n",
            "85/85 [==============================] - 1s 6ms/step - loss: 2.7517 - accuracy: 0.1856 - val_loss: 2.6748 - val_accuracy: 0.1992\n",
            "Epoch 6/200\n",
            "85/85 [==============================] - 1s 6ms/step - loss: 2.7414 - accuracy: 0.1868 - val_loss: 2.6669 - val_accuracy: 0.1992\n",
            "Epoch 7/200\n",
            "85/85 [==============================] - 1s 6ms/step - loss: 2.7277 - accuracy: 0.1868 - val_loss: 2.6588 - val_accuracy: 0.1992\n",
            "Epoch 8/200\n",
            "85/85 [==============================] - 1s 6ms/step - loss: 2.7250 - accuracy: 0.1878 - val_loss: 2.6546 - val_accuracy: 0.1992\n",
            "Epoch 9/200\n",
            "85/85 [==============================] - 1s 6ms/step - loss: 2.7149 - accuracy: 0.1875 - val_loss: 2.6493 - val_accuracy: 0.1992\n",
            "Epoch 10/200\n",
            "85/85 [==============================] - 1s 6ms/step - loss: 2.7031 - accuracy: 0.1878 - val_loss: 2.6444 - val_accuracy: 0.1992\n",
            "Epoch 11/200\n",
            "85/85 [==============================] - 1s 6ms/step - loss: 2.7034 - accuracy: 0.1875 - val_loss: 2.6412 - val_accuracy: 0.1992\n",
            "Epoch 12/200\n",
            "85/85 [==============================] - 1s 6ms/step - loss: 2.6998 - accuracy: 0.1880 - val_loss: 2.6361 - val_accuracy: 0.1992\n",
            "Epoch 13/200\n",
            "85/85 [==============================] - 1s 6ms/step - loss: 2.6968 - accuracy: 0.1880 - val_loss: 2.6341 - val_accuracy: 0.1992\n",
            "Epoch 14/200\n",
            "85/85 [==============================] - 1s 6ms/step - loss: 2.6874 - accuracy: 0.1880 - val_loss: 2.6277 - val_accuracy: 0.1992\n",
            "Epoch 15/200\n",
            "85/85 [==============================] - 1s 6ms/step - loss: 2.6829 - accuracy: 0.1873 - val_loss: 2.6232 - val_accuracy: 0.1992\n",
            "Epoch 16/200\n",
            "85/85 [==============================] - 1s 6ms/step - loss: 2.6783 - accuracy: 0.1875 - val_loss: 2.6177 - val_accuracy: 0.1992\n",
            "Epoch 17/200\n",
            "85/85 [==============================] - 1s 6ms/step - loss: 2.6744 - accuracy: 0.1882 - val_loss: 2.6126 - val_accuracy: 0.1992\n",
            "Epoch 18/200\n",
            "85/85 [==============================] - 1s 6ms/step - loss: 2.6709 - accuracy: 0.1882 - val_loss: 2.6078 - val_accuracy: 0.1992\n",
            "Epoch 19/200\n",
            "85/85 [==============================] - 1s 6ms/step - loss: 2.6646 - accuracy: 0.1894 - val_loss: 2.6003 - val_accuracy: 0.1992\n",
            "Epoch 20/200\n",
            "85/85 [==============================] - 1s 6ms/step - loss: 2.6600 - accuracy: 0.1923 - val_loss: 2.5931 - val_accuracy: 0.1992\n",
            "Epoch 21/200\n",
            "85/85 [==============================] - 1s 6ms/step - loss: 2.6497 - accuracy: 0.1932 - val_loss: 2.5821 - val_accuracy: 0.1992\n",
            "Epoch 22/200\n",
            "85/85 [==============================] - 1s 6ms/step - loss: 2.6426 - accuracy: 0.1949 - val_loss: 2.5706 - val_accuracy: 0.1992\n",
            "Epoch 23/200\n",
            "85/85 [==============================] - 1s 6ms/step - loss: 2.6292 - accuracy: 0.2003 - val_loss: 2.5543 - val_accuracy: 0.1992\n",
            "Epoch 24/200\n",
            "85/85 [==============================] - 1s 6ms/step - loss: 2.6175 - accuracy: 0.2067 - val_loss: 2.5322 - val_accuracy: 0.2201\n",
            "Epoch 25/200\n",
            "85/85 [==============================] - 1s 6ms/step - loss: 2.5999 - accuracy: 0.2129 - val_loss: 2.5079 - val_accuracy: 0.2524\n",
            "Epoch 26/200\n",
            "85/85 [==============================] - 1s 6ms/step - loss: 2.5792 - accuracy: 0.2207 - val_loss: 2.4814 - val_accuracy: 0.2600\n",
            "Epoch 27/200\n",
            "85/85 [==============================] - 1s 7ms/step - loss: 2.5538 - accuracy: 0.2288 - val_loss: 2.4470 - val_accuracy: 0.2694\n",
            "Epoch 28/200\n",
            "85/85 [==============================] - 1s 7ms/step - loss: 2.5280 - accuracy: 0.2393 - val_loss: 2.4136 - val_accuracy: 0.2903\n",
            "Epoch 29/200\n",
            "85/85 [==============================] - 1s 6ms/step - loss: 2.5033 - accuracy: 0.2488 - val_loss: 2.3764 - val_accuracy: 0.2979\n",
            "Epoch 30/200\n",
            "85/85 [==============================] - 1s 6ms/step - loss: 2.4745 - accuracy: 0.2507 - val_loss: 2.3413 - val_accuracy: 0.3131\n",
            "Epoch 31/200\n",
            "85/85 [==============================] - 1s 6ms/step - loss: 2.4434 - accuracy: 0.2604 - val_loss: 2.3048 - val_accuracy: 0.3188\n",
            "Epoch 32/200\n",
            "85/85 [==============================] - 1s 6ms/step - loss: 2.4351 - accuracy: 0.2658 - val_loss: 2.2761 - val_accuracy: 0.3226\n",
            "Epoch 33/200\n",
            "85/85 [==============================] - 1s 6ms/step - loss: 2.4002 - accuracy: 0.2758 - val_loss: 2.2447 - val_accuracy: 0.3264\n",
            "Epoch 34/200\n",
            "85/85 [==============================] - 1s 6ms/step - loss: 2.3805 - accuracy: 0.2822 - val_loss: 2.2188 - val_accuracy: 0.3378\n",
            "Epoch 35/200\n",
            "85/85 [==============================] - 1s 6ms/step - loss: 2.3558 - accuracy: 0.2836 - val_loss: 2.1937 - val_accuracy: 0.3397\n",
            "Epoch 36/200\n",
            "85/85 [==============================] - 1s 6ms/step - loss: 2.3368 - accuracy: 0.2953 - val_loss: 2.1723 - val_accuracy: 0.3416\n",
            "Epoch 37/200\n",
            "85/85 [==============================] - 1s 6ms/step - loss: 2.3082 - accuracy: 0.2903 - val_loss: 2.1551 - val_accuracy: 0.3416\n",
            "Epoch 38/200\n",
            "85/85 [==============================] - 1s 6ms/step - loss: 2.2960 - accuracy: 0.2977 - val_loss: 2.1394 - val_accuracy: 0.3416\n",
            "Epoch 39/200\n",
            "85/85 [==============================] - 1s 6ms/step - loss: 2.2803 - accuracy: 0.2991 - val_loss: 2.1252 - val_accuracy: 0.3416\n",
            "Epoch 40/200\n",
            "85/85 [==============================] - 1s 6ms/step - loss: 2.2796 - accuracy: 0.3005 - val_loss: 2.1146 - val_accuracy: 0.3454\n",
            "Epoch 41/200\n",
            "85/85 [==============================] - 1s 6ms/step - loss: 2.2484 - accuracy: 0.3062 - val_loss: 2.0980 - val_accuracy: 0.3454\n",
            "Epoch 42/200\n",
            "85/85 [==============================] - 1s 6ms/step - loss: 2.2498 - accuracy: 0.3017 - val_loss: 2.0862 - val_accuracy: 0.3491\n",
            "Epoch 43/200\n",
            "85/85 [==============================] - 1s 6ms/step - loss: 2.2362 - accuracy: 0.3079 - val_loss: 2.0752 - val_accuracy: 0.3510\n",
            "Epoch 44/200\n",
            "85/85 [==============================] - 1s 6ms/step - loss: 2.2237 - accuracy: 0.3100 - val_loss: 2.0648 - val_accuracy: 0.3510\n",
            "Epoch 45/200\n",
            "85/85 [==============================] - 1s 6ms/step - loss: 2.1935 - accuracy: 0.3188 - val_loss: 2.0537 - val_accuracy: 0.3529\n",
            "Epoch 46/200\n",
            "85/85 [==============================] - 1s 6ms/step - loss: 2.1880 - accuracy: 0.3238 - val_loss: 2.0451 - val_accuracy: 0.3529\n",
            "Epoch 47/200\n",
            "85/85 [==============================] - 1s 6ms/step - loss: 2.1882 - accuracy: 0.3363 - val_loss: 2.0363 - val_accuracy: 0.3548\n",
            "Epoch 48/200\n",
            "85/85 [==============================] - 1s 7ms/step - loss: 2.1787 - accuracy: 0.3378 - val_loss: 2.0284 - val_accuracy: 0.3624\n",
            "Epoch 49/200\n",
            "85/85 [==============================] - 1s 7ms/step - loss: 2.1680 - accuracy: 0.3390 - val_loss: 2.0212 - val_accuracy: 0.3719\n",
            "Epoch 50/200\n",
            "85/85 [==============================] - 1s 6ms/step - loss: 2.1384 - accuracy: 0.3608 - val_loss: 2.0141 - val_accuracy: 0.3700\n",
            "Epoch 51/200\n",
            "85/85 [==============================] - 1s 6ms/step - loss: 2.1548 - accuracy: 0.3539 - val_loss: 2.0049 - val_accuracy: 0.3681\n",
            "Epoch 52/200\n",
            "85/85 [==============================] - 1s 6ms/step - loss: 2.1273 - accuracy: 0.3686 - val_loss: 1.9968 - val_accuracy: 0.4042\n",
            "Epoch 53/200\n",
            "85/85 [==============================] - 1s 6ms/step - loss: 2.1037 - accuracy: 0.3767 - val_loss: 1.9863 - val_accuracy: 0.3928\n",
            "Epoch 54/200\n",
            "85/85 [==============================] - 1s 6ms/step - loss: 2.1075 - accuracy: 0.3705 - val_loss: 1.9789 - val_accuracy: 0.3985\n",
            "Epoch 55/200\n",
            "85/85 [==============================] - 1s 6ms/step - loss: 2.1003 - accuracy: 0.3734 - val_loss: 1.9703 - val_accuracy: 0.4023\n",
            "Epoch 56/200\n",
            "85/85 [==============================] - 1s 6ms/step - loss: 2.0945 - accuracy: 0.3786 - val_loss: 1.9624 - val_accuracy: 0.4137\n",
            "Epoch 57/200\n",
            "85/85 [==============================] - 1s 6ms/step - loss: 2.0680 - accuracy: 0.3914 - val_loss: 1.9527 - val_accuracy: 0.4213\n",
            "Epoch 58/200\n",
            "85/85 [==============================] - 1s 6ms/step - loss: 2.0931 - accuracy: 0.3760 - val_loss: 1.9458 - val_accuracy: 0.4156\n",
            "Epoch 59/200\n",
            "85/85 [==============================] - 1s 6ms/step - loss: 2.0769 - accuracy: 0.3788 - val_loss: 1.9391 - val_accuracy: 0.4175\n",
            "Epoch 60/200\n",
            "85/85 [==============================] - 1s 6ms/step - loss: 2.0535 - accuracy: 0.3916 - val_loss: 1.9325 - val_accuracy: 0.4345\n",
            "Epoch 61/200\n",
            "85/85 [==============================] - 1s 6ms/step - loss: 2.0596 - accuracy: 0.3990 - val_loss: 1.9263 - val_accuracy: 0.4383\n",
            "Epoch 62/200\n",
            "85/85 [==============================] - 1s 6ms/step - loss: 2.0571 - accuracy: 0.3888 - val_loss: 1.9182 - val_accuracy: 0.4137\n",
            "Epoch 63/200\n",
            "85/85 [==============================] - 1s 6ms/step - loss: 2.0245 - accuracy: 0.3964 - val_loss: 1.9097 - val_accuracy: 0.4269\n",
            "Epoch 64/200\n",
            "85/85 [==============================] - 1s 6ms/step - loss: 2.0294 - accuracy: 0.3959 - val_loss: 1.9033 - val_accuracy: 0.4345\n",
            "Epoch 65/200\n",
            "85/85 [==============================] - 1s 6ms/step - loss: 2.0219 - accuracy: 0.3988 - val_loss: 1.8968 - val_accuracy: 0.4421\n",
            "Epoch 66/200\n",
            "85/85 [==============================] - 1s 6ms/step - loss: 2.0211 - accuracy: 0.3990 - val_loss: 1.8901 - val_accuracy: 0.4630\n",
            "Epoch 67/200\n",
            "85/85 [==============================] - 1s 6ms/step - loss: 2.0075 - accuracy: 0.4106 - val_loss: 1.8822 - val_accuracy: 0.4744\n",
            "Epoch 68/200\n",
            "85/85 [==============================] - 1s 6ms/step - loss: 1.9896 - accuracy: 0.4180 - val_loss: 1.8759 - val_accuracy: 0.4801\n",
            "Epoch 69/200\n",
            "85/85 [==============================] - 1s 6ms/step - loss: 1.9969 - accuracy: 0.4054 - val_loss: 1.8688 - val_accuracy: 0.4839\n",
            "Epoch 70/200\n",
            "85/85 [==============================] - 1s 7ms/step - loss: 1.9637 - accuracy: 0.4261 - val_loss: 1.8608 - val_accuracy: 0.4744\n",
            "Epoch 71/200\n",
            "85/85 [==============================] - 1s 7ms/step - loss: 1.9833 - accuracy: 0.4275 - val_loss: 1.8504 - val_accuracy: 0.4934\n",
            "Epoch 72/200\n",
            "85/85 [==============================] - 1s 7ms/step - loss: 1.9613 - accuracy: 0.4239 - val_loss: 1.8420 - val_accuracy: 0.4953\n",
            "Epoch 73/200\n",
            "85/85 [==============================] - 1s 6ms/step - loss: 1.9336 - accuracy: 0.4313 - val_loss: 1.8316 - val_accuracy: 0.5066\n",
            "Epoch 74/200\n",
            "85/85 [==============================] - 1s 6ms/step - loss: 1.9481 - accuracy: 0.4327 - val_loss: 1.8219 - val_accuracy: 0.4934\n",
            "Epoch 75/200\n",
            "85/85 [==============================] - 1s 6ms/step - loss: 1.9338 - accuracy: 0.4386 - val_loss: 1.8135 - val_accuracy: 0.4934\n",
            "Epoch 76/200\n",
            "85/85 [==============================] - 1s 6ms/step - loss: 1.9089 - accuracy: 0.4375 - val_loss: 1.8005 - val_accuracy: 0.4877\n",
            "Epoch 77/200\n",
            "85/85 [==============================] - 1s 6ms/step - loss: 1.9169 - accuracy: 0.4479 - val_loss: 1.7888 - val_accuracy: 0.4972\n",
            "Epoch 78/200\n",
            "85/85 [==============================] - 1s 6ms/step - loss: 1.9014 - accuracy: 0.4441 - val_loss: 1.7790 - val_accuracy: 0.5104\n",
            "Epoch 79/200\n",
            "85/85 [==============================] - 1s 6ms/step - loss: 1.8989 - accuracy: 0.4491 - val_loss: 1.7709 - val_accuracy: 0.5028\n",
            "Epoch 80/200\n",
            "85/85 [==============================] - 1s 6ms/step - loss: 1.8763 - accuracy: 0.4576 - val_loss: 1.7599 - val_accuracy: 0.5199\n",
            "Epoch 81/200\n",
            "85/85 [==============================] - 1s 6ms/step - loss: 1.8817 - accuracy: 0.4576 - val_loss: 1.7520 - val_accuracy: 0.5142\n",
            "Epoch 82/200\n",
            "85/85 [==============================] - 1s 6ms/step - loss: 1.8602 - accuracy: 0.4560 - val_loss: 1.7423 - val_accuracy: 0.5199\n",
            "Epoch 83/200\n",
            "85/85 [==============================] - 1s 6ms/step - loss: 1.8604 - accuracy: 0.4669 - val_loss: 1.7334 - val_accuracy: 0.5351\n",
            "Epoch 84/200\n",
            "85/85 [==============================] - 1s 6ms/step - loss: 1.8509 - accuracy: 0.4610 - val_loss: 1.7268 - val_accuracy: 0.5275\n",
            "Epoch 85/200\n",
            "85/85 [==============================] - 1s 6ms/step - loss: 1.8464 - accuracy: 0.4659 - val_loss: 1.7173 - val_accuracy: 0.5161\n",
            "Epoch 86/200\n",
            "85/85 [==============================] - 1s 6ms/step - loss: 1.8294 - accuracy: 0.4645 - val_loss: 1.7108 - val_accuracy: 0.5275\n",
            "Epoch 87/200\n",
            "85/85 [==============================] - 1s 6ms/step - loss: 1.8383 - accuracy: 0.4714 - val_loss: 1.7044 - val_accuracy: 0.5199\n",
            "Epoch 88/200\n",
            "85/85 [==============================] - 1s 6ms/step - loss: 1.8284 - accuracy: 0.4707 - val_loss: 1.6977 - val_accuracy: 0.5085\n",
            "Epoch 89/200\n",
            "85/85 [==============================] - 1s 6ms/step - loss: 1.8083 - accuracy: 0.4866 - val_loss: 1.6877 - val_accuracy: 0.5180\n",
            "Epoch 90/200\n",
            "85/85 [==============================] - 1s 6ms/step - loss: 1.8057 - accuracy: 0.4852 - val_loss: 1.6812 - val_accuracy: 0.5256\n",
            "Epoch 91/200\n",
            "85/85 [==============================] - 1s 7ms/step - loss: 1.7863 - accuracy: 0.4811 - val_loss: 1.6729 - val_accuracy: 0.5332\n",
            "Epoch 92/200\n",
            "85/85 [==============================] - 1s 7ms/step - loss: 1.7879 - accuracy: 0.4866 - val_loss: 1.6703 - val_accuracy: 0.5332\n",
            "Epoch 93/200\n",
            "85/85 [==============================] - 1s 7ms/step - loss: 1.7687 - accuracy: 0.4885 - val_loss: 1.6628 - val_accuracy: 0.5408\n",
            "Epoch 94/200\n",
            "85/85 [==============================] - 1s 6ms/step - loss: 1.7906 - accuracy: 0.4911 - val_loss: 1.6564 - val_accuracy: 0.5446\n",
            "Epoch 95/200\n",
            "85/85 [==============================] - 1s 6ms/step - loss: 1.7632 - accuracy: 0.4856 - val_loss: 1.6486 - val_accuracy: 0.5579\n",
            "Epoch 96/200\n",
            "85/85 [==============================] - 1s 6ms/step - loss: 1.7505 - accuracy: 0.4949 - val_loss: 1.6441 - val_accuracy: 0.5446\n",
            "Epoch 97/200\n",
            "85/85 [==============================] - 1s 6ms/step - loss: 1.7598 - accuracy: 0.4887 - val_loss: 1.6429 - val_accuracy: 0.5655\n",
            "Epoch 98/200\n",
            "85/85 [==============================] - 1s 6ms/step - loss: 1.7483 - accuracy: 0.5082 - val_loss: 1.6315 - val_accuracy: 0.5655\n",
            "Epoch 99/200\n",
            "85/85 [==============================] - 1s 6ms/step - loss: 1.7322 - accuracy: 0.5082 - val_loss: 1.6265 - val_accuracy: 0.5617\n",
            "Epoch 100/200\n",
            "85/85 [==============================] - 1s 6ms/step - loss: 1.7237 - accuracy: 0.5155 - val_loss: 1.6230 - val_accuracy: 0.5636\n",
            "Epoch 101/200\n",
            "85/85 [==============================] - 1s 6ms/step - loss: 1.7147 - accuracy: 0.5117 - val_loss: 1.6153 - val_accuracy: 0.5712\n",
            "Epoch 102/200\n",
            "85/85 [==============================] - 1s 6ms/step - loss: 1.7242 - accuracy: 0.5049 - val_loss: 1.6125 - val_accuracy: 0.5769\n",
            "Epoch 103/200\n",
            "85/85 [==============================] - 1s 6ms/step - loss: 1.7115 - accuracy: 0.5208 - val_loss: 1.6078 - val_accuracy: 0.5920\n",
            "Epoch 104/200\n",
            "85/85 [==============================] - 1s 6ms/step - loss: 1.6874 - accuracy: 0.5269 - val_loss: 1.6025 - val_accuracy: 0.5731\n",
            "Epoch 105/200\n",
            "85/85 [==============================] - 1s 6ms/step - loss: 1.6835 - accuracy: 0.5253 - val_loss: 1.5971 - val_accuracy: 0.5901\n",
            "Epoch 106/200\n",
            "85/85 [==============================] - 1s 6ms/step - loss: 1.7077 - accuracy: 0.5212 - val_loss: 1.5940 - val_accuracy: 0.5882\n",
            "Epoch 107/200\n",
            "85/85 [==============================] - 1s 6ms/step - loss: 1.6888 - accuracy: 0.5269 - val_loss: 1.5926 - val_accuracy: 0.5958\n",
            "Epoch 108/200\n",
            "85/85 [==============================] - 1s 6ms/step - loss: 1.6795 - accuracy: 0.5217 - val_loss: 1.5887 - val_accuracy: 0.5958\n",
            "Epoch 109/200\n",
            "85/85 [==============================] - 1s 6ms/step - loss: 1.6522 - accuracy: 0.5348 - val_loss: 1.5849 - val_accuracy: 0.5958\n",
            "Epoch 110/200\n",
            "85/85 [==============================] - 1s 6ms/step - loss: 1.6539 - accuracy: 0.5229 - val_loss: 1.5795 - val_accuracy: 0.5939\n",
            "Epoch 111/200\n",
            "85/85 [==============================] - 1s 6ms/step - loss: 1.6520 - accuracy: 0.5400 - val_loss: 1.5735 - val_accuracy: 0.5863\n",
            "Epoch 112/200\n",
            "85/85 [==============================] - 1s 6ms/step - loss: 1.6517 - accuracy: 0.5341 - val_loss: 1.5700 - val_accuracy: 0.5920\n",
            "Epoch 113/200\n",
            "85/85 [==============================] - 1s 6ms/step - loss: 1.6264 - accuracy: 0.5390 - val_loss: 1.5666 - val_accuracy: 0.6091\n",
            "Epoch 114/200\n",
            "85/85 [==============================] - 1s 6ms/step - loss: 1.6530 - accuracy: 0.5333 - val_loss: 1.5627 - val_accuracy: 0.6129\n",
            "Epoch 115/200\n",
            "85/85 [==============================] - 1s 6ms/step - loss: 1.6379 - accuracy: 0.5414 - val_loss: 1.5581 - val_accuracy: 0.6072\n",
            "Epoch 116/200\n",
            "85/85 [==============================] - 1s 6ms/step - loss: 1.6286 - accuracy: 0.5488 - val_loss: 1.5549 - val_accuracy: 0.6091\n",
            "Epoch 117/200\n",
            "85/85 [==============================] - 1s 6ms/step - loss: 1.6097 - accuracy: 0.5500 - val_loss: 1.5489 - val_accuracy: 0.6205\n",
            "Epoch 118/200\n",
            "85/85 [==============================] - 1s 6ms/step - loss: 1.6255 - accuracy: 0.5526 - val_loss: 1.5446 - val_accuracy: 0.6167\n",
            "Epoch 119/200\n",
            "85/85 [==============================] - 1s 6ms/step - loss: 1.5966 - accuracy: 0.5497 - val_loss: 1.5414 - val_accuracy: 0.6129\n",
            "Epoch 120/200\n",
            "85/85 [==============================] - 1s 6ms/step - loss: 1.6340 - accuracy: 0.5419 - val_loss: 1.5370 - val_accuracy: 0.6224\n",
            "Epoch 121/200\n",
            "85/85 [==============================] - 1s 6ms/step - loss: 1.5915 - accuracy: 0.5576 - val_loss: 1.5328 - val_accuracy: 0.6281\n",
            "Epoch 122/200\n",
            "85/85 [==============================] - 1s 6ms/step - loss: 1.6039 - accuracy: 0.5523 - val_loss: 1.5314 - val_accuracy: 0.6319\n",
            "Epoch 123/200\n",
            "85/85 [==============================] - 1s 6ms/step - loss: 1.5687 - accuracy: 0.5583 - val_loss: 1.5264 - val_accuracy: 0.6338\n",
            "Epoch 124/200\n",
            "85/85 [==============================] - 1s 6ms/step - loss: 1.5936 - accuracy: 0.5621 - val_loss: 1.5235 - val_accuracy: 0.6376\n",
            "Epoch 125/200\n",
            "85/85 [==============================] - 1s 6ms/step - loss: 1.5664 - accuracy: 0.5666 - val_loss: 1.5214 - val_accuracy: 0.6395\n",
            "Epoch 126/200\n",
            "85/85 [==============================] - 1s 6ms/step - loss: 1.5431 - accuracy: 0.5737 - val_loss: 1.5133 - val_accuracy: 0.6376\n",
            "Epoch 127/200\n",
            "85/85 [==============================] - 1s 6ms/step - loss: 1.5318 - accuracy: 0.5777 - val_loss: 1.5114 - val_accuracy: 0.6395\n",
            "Epoch 128/200\n",
            "85/85 [==============================] - 1s 6ms/step - loss: 1.5543 - accuracy: 0.5728 - val_loss: 1.5089 - val_accuracy: 0.6433\n",
            "Epoch 129/200\n",
            "85/85 [==============================] - 1s 6ms/step - loss: 1.5477 - accuracy: 0.5780 - val_loss: 1.5024 - val_accuracy: 0.6433\n",
            "Epoch 130/200\n",
            "85/85 [==============================] - 1s 6ms/step - loss: 1.5288 - accuracy: 0.5825 - val_loss: 1.5033 - val_accuracy: 0.6471\n",
            "Epoch 131/200\n",
            "85/85 [==============================] - 1s 6ms/step - loss: 1.5404 - accuracy: 0.5820 - val_loss: 1.4977 - val_accuracy: 0.6509\n",
            "Epoch 132/200\n",
            "85/85 [==============================] - 1s 6ms/step - loss: 1.5292 - accuracy: 0.5808 - val_loss: 1.4942 - val_accuracy: 0.6528\n",
            "Epoch 133/200\n",
            "85/85 [==============================] - 1s 6ms/step - loss: 1.5212 - accuracy: 0.5735 - val_loss: 1.4931 - val_accuracy: 0.6395\n",
            "Epoch 134/200\n",
            "85/85 [==============================] - 1s 7ms/step - loss: 1.5061 - accuracy: 0.5965 - val_loss: 1.4893 - val_accuracy: 0.6528\n",
            "Epoch 135/200\n",
            "85/85 [==============================] - 1s 6ms/step - loss: 1.5153 - accuracy: 0.5882 - val_loss: 1.4858 - val_accuracy: 0.6528\n",
            "Epoch 136/200\n",
            "85/85 [==============================] - 1s 7ms/step - loss: 1.5207 - accuracy: 0.5777 - val_loss: 1.4862 - val_accuracy: 0.6509\n",
            "Epoch 137/200\n",
            "85/85 [==============================] - 1s 6ms/step - loss: 1.5017 - accuracy: 0.5830 - val_loss: 1.4799 - val_accuracy: 0.6490\n",
            "Epoch 138/200\n",
            "85/85 [==============================] - 1s 6ms/step - loss: 1.4828 - accuracy: 0.5984 - val_loss: 1.4757 - val_accuracy: 0.6452\n",
            "Epoch 139/200\n",
            "85/85 [==============================] - 1s 6ms/step - loss: 1.4995 - accuracy: 0.5882 - val_loss: 1.4708 - val_accuracy: 0.6528\n",
            "Epoch 140/200\n",
            "85/85 [==============================] - 1s 6ms/step - loss: 1.4676 - accuracy: 0.6010 - val_loss: 1.4671 - val_accuracy: 0.6565\n",
            "Epoch 141/200\n",
            "85/85 [==============================] - 1s 6ms/step - loss: 1.4659 - accuracy: 0.5944 - val_loss: 1.4688 - val_accuracy: 0.6528\n",
            "Epoch 142/200\n",
            "85/85 [==============================] - 1s 6ms/step - loss: 1.4491 - accuracy: 0.6098 - val_loss: 1.4634 - val_accuracy: 0.6546\n",
            "Epoch 143/200\n",
            "85/85 [==============================] - 1s 6ms/step - loss: 1.4644 - accuracy: 0.6010 - val_loss: 1.4609 - val_accuracy: 0.6528\n",
            "Epoch 144/200\n",
            "85/85 [==============================] - 1s 6ms/step - loss: 1.4402 - accuracy: 0.6029 - val_loss: 1.4554 - val_accuracy: 0.6528\n",
            "Epoch 145/200\n",
            "85/85 [==============================] - 1s 6ms/step - loss: 1.4501 - accuracy: 0.6148 - val_loss: 1.4497 - val_accuracy: 0.6641\n",
            "Epoch 146/200\n",
            "85/85 [==============================] - 1s 6ms/step - loss: 1.4206 - accuracy: 0.6138 - val_loss: 1.4510 - val_accuracy: 0.6546\n",
            "Epoch 147/200\n",
            "85/85 [==============================] - 1s 6ms/step - loss: 1.4207 - accuracy: 0.6152 - val_loss: 1.4436 - val_accuracy: 0.6509\n",
            "Epoch 148/200\n",
            "85/85 [==============================] - 1s 6ms/step - loss: 1.4426 - accuracy: 0.6065 - val_loss: 1.4429 - val_accuracy: 0.6565\n",
            "Epoch 149/200\n",
            "85/85 [==============================] - 1s 6ms/step - loss: 1.4206 - accuracy: 0.6141 - val_loss: 1.4378 - val_accuracy: 0.6565\n",
            "Epoch 150/200\n",
            "85/85 [==============================] - 1s 6ms/step - loss: 1.4180 - accuracy: 0.6143 - val_loss: 1.4359 - val_accuracy: 0.6584\n",
            "Epoch 151/200\n",
            "85/85 [==============================] - 1s 6ms/step - loss: 1.3885 - accuracy: 0.6186 - val_loss: 1.4298 - val_accuracy: 0.6565\n",
            "Epoch 152/200\n",
            "85/85 [==============================] - 1s 6ms/step - loss: 1.3941 - accuracy: 0.6100 - val_loss: 1.4264 - val_accuracy: 0.6603\n",
            "Epoch 153/200\n",
            "85/85 [==============================] - 1s 6ms/step - loss: 1.3947 - accuracy: 0.6195 - val_loss: 1.4246 - val_accuracy: 0.6584\n",
            "Epoch 154/200\n",
            "85/85 [==============================] - 1s 7ms/step - loss: 1.3891 - accuracy: 0.6226 - val_loss: 1.4184 - val_accuracy: 0.6603\n",
            "Epoch 155/200\n",
            "85/85 [==============================] - 1s 7ms/step - loss: 1.3747 - accuracy: 0.6226 - val_loss: 1.4151 - val_accuracy: 0.6603\n",
            "Epoch 156/200\n",
            "85/85 [==============================] - 1s 7ms/step - loss: 1.3590 - accuracy: 0.6235 - val_loss: 1.4100 - val_accuracy: 0.6641\n",
            "Epoch 157/200\n",
            "85/85 [==============================] - 1s 6ms/step - loss: 1.3535 - accuracy: 0.6321 - val_loss: 1.4096 - val_accuracy: 0.6641\n",
            "Epoch 158/200\n",
            "85/85 [==============================] - 1s 6ms/step - loss: 1.3475 - accuracy: 0.6226 - val_loss: 1.4051 - val_accuracy: 0.6679\n",
            "Epoch 159/200\n",
            "85/85 [==============================] - 1s 6ms/step - loss: 1.3449 - accuracy: 0.6364 - val_loss: 1.4022 - val_accuracy: 0.6603\n",
            "Epoch 160/200\n",
            "85/85 [==============================] - 1s 6ms/step - loss: 1.3454 - accuracy: 0.6321 - val_loss: 1.4018 - val_accuracy: 0.6660\n",
            "Epoch 161/200\n",
            "85/85 [==============================] - 1s 6ms/step - loss: 1.3139 - accuracy: 0.6454 - val_loss: 1.3925 - val_accuracy: 0.6660\n",
            "Epoch 162/200\n",
            "85/85 [==============================] - 1s 6ms/step - loss: 1.3347 - accuracy: 0.6373 - val_loss: 1.3934 - val_accuracy: 0.6622\n",
            "Epoch 163/200\n",
            "85/85 [==============================] - 1s 6ms/step - loss: 1.3338 - accuracy: 0.6278 - val_loss: 1.3929 - val_accuracy: 0.6660\n",
            "Epoch 164/200\n",
            "85/85 [==============================] - 1s 6ms/step - loss: 1.3256 - accuracy: 0.6366 - val_loss: 1.3933 - val_accuracy: 0.6584\n",
            "Epoch 165/200\n",
            "85/85 [==============================] - 1s 6ms/step - loss: 1.3013 - accuracy: 0.6482 - val_loss: 1.3839 - val_accuracy: 0.6679\n",
            "Epoch 166/200\n",
            "85/85 [==============================] - 1s 6ms/step - loss: 1.3077 - accuracy: 0.6409 - val_loss: 1.3827 - val_accuracy: 0.6660\n",
            "Epoch 167/200\n",
            "85/85 [==============================] - 1s 6ms/step - loss: 1.3162 - accuracy: 0.6385 - val_loss: 1.3813 - val_accuracy: 0.6679\n",
            "Epoch 168/200\n",
            "85/85 [==============================] - 1s 6ms/step - loss: 1.2768 - accuracy: 0.6556 - val_loss: 1.3780 - val_accuracy: 0.6641\n",
            "Epoch 169/200\n",
            "85/85 [==============================] - 1s 6ms/step - loss: 1.2801 - accuracy: 0.6504 - val_loss: 1.3739 - val_accuracy: 0.6679\n",
            "Epoch 170/200\n",
            "85/85 [==============================] - 1s 6ms/step - loss: 1.2724 - accuracy: 0.6459 - val_loss: 1.3655 - val_accuracy: 0.6679\n",
            "Epoch 171/200\n",
            "85/85 [==============================] - 1s 6ms/step - loss: 1.2610 - accuracy: 0.6537 - val_loss: 1.3688 - val_accuracy: 0.6641\n",
            "Epoch 172/200\n",
            "85/85 [==============================] - 1s 6ms/step - loss: 1.2730 - accuracy: 0.6535 - val_loss: 1.3604 - val_accuracy: 0.6698\n",
            "Epoch 173/200\n",
            "85/85 [==============================] - 1s 6ms/step - loss: 1.2769 - accuracy: 0.6504 - val_loss: 1.3604 - val_accuracy: 0.6717\n",
            "Epoch 174/200\n",
            "85/85 [==============================] - 1s 6ms/step - loss: 1.2397 - accuracy: 0.6565 - val_loss: 1.3551 - val_accuracy: 0.6717\n",
            "Epoch 175/200\n",
            "85/85 [==============================] - 1s 6ms/step - loss: 1.2703 - accuracy: 0.6563 - val_loss: 1.3552 - val_accuracy: 0.6698\n",
            "Epoch 176/200\n",
            "85/85 [==============================] - 1s 6ms/step - loss: 1.2616 - accuracy: 0.6421 - val_loss: 1.3504 - val_accuracy: 0.6736\n",
            "Epoch 177/200\n",
            "85/85 [==============================] - 1s 7ms/step - loss: 1.2463 - accuracy: 0.6561 - val_loss: 1.3501 - val_accuracy: 0.6717\n",
            "Epoch 178/200\n",
            "85/85 [==============================] - 1s 6ms/step - loss: 1.2169 - accuracy: 0.6613 - val_loss: 1.3471 - val_accuracy: 0.6774\n",
            "Epoch 179/200\n",
            "85/85 [==============================] - 1s 7ms/step - loss: 1.2179 - accuracy: 0.6660 - val_loss: 1.3405 - val_accuracy: 0.6793\n",
            "Epoch 180/200\n",
            "85/85 [==============================] - 1s 6ms/step - loss: 1.2146 - accuracy: 0.6667 - val_loss: 1.3394 - val_accuracy: 0.6774\n",
            "Epoch 181/200\n",
            "85/85 [==============================] - 1s 6ms/step - loss: 1.2128 - accuracy: 0.6589 - val_loss: 1.3393 - val_accuracy: 0.6774\n",
            "Epoch 182/200\n",
            "85/85 [==============================] - 1s 6ms/step - loss: 1.2040 - accuracy: 0.6641 - val_loss: 1.3424 - val_accuracy: 0.6774\n",
            "Epoch 183/200\n",
            "85/85 [==============================] - 1s 6ms/step - loss: 1.1960 - accuracy: 0.6684 - val_loss: 1.3332 - val_accuracy: 0.6774\n",
            "Epoch 184/200\n",
            "85/85 [==============================] - 1s 6ms/step - loss: 1.2195 - accuracy: 0.6629 - val_loss: 1.3369 - val_accuracy: 0.6774\n",
            "Epoch 185/200\n",
            "85/85 [==============================] - 1s 6ms/step - loss: 1.1817 - accuracy: 0.6739 - val_loss: 1.3351 - val_accuracy: 0.6812\n",
            "Epoch 186/200\n",
            "85/85 [==============================] - 1s 6ms/step - loss: 1.1747 - accuracy: 0.6739 - val_loss: 1.3287 - val_accuracy: 0.6831\n",
            "Epoch 187/200\n",
            "85/85 [==============================] - 1s 6ms/step - loss: 1.1960 - accuracy: 0.6601 - val_loss: 1.3297 - val_accuracy: 0.6831\n",
            "Epoch 188/200\n",
            "85/85 [==============================] - 1s 6ms/step - loss: 1.1748 - accuracy: 0.6770 - val_loss: 1.3255 - val_accuracy: 0.6793\n",
            "Epoch 189/200\n",
            "85/85 [==============================] - 1s 6ms/step - loss: 1.1591 - accuracy: 0.6724 - val_loss: 1.3222 - val_accuracy: 0.6831\n",
            "Epoch 190/200\n",
            "85/85 [==============================] - 1s 6ms/step - loss: 1.1785 - accuracy: 0.6696 - val_loss: 1.3204 - val_accuracy: 0.6831\n",
            "Epoch 191/200\n",
            "85/85 [==============================] - 1s 6ms/step - loss: 1.1469 - accuracy: 0.6741 - val_loss: 1.3175 - val_accuracy: 0.6850\n",
            "Epoch 192/200\n",
            "85/85 [==============================] - 1s 6ms/step - loss: 1.1369 - accuracy: 0.6853 - val_loss: 1.3178 - val_accuracy: 0.6793\n",
            "Epoch 193/200\n",
            "85/85 [==============================] - 1s 6ms/step - loss: 1.1345 - accuracy: 0.6826 - val_loss: 1.3149 - val_accuracy: 0.6812\n",
            "Epoch 194/200\n",
            "85/85 [==============================] - 1s 6ms/step - loss: 1.1451 - accuracy: 0.6784 - val_loss: 1.3113 - val_accuracy: 0.6869\n",
            "Epoch 195/200\n",
            "85/85 [==============================] - 1s 6ms/step - loss: 1.1333 - accuracy: 0.6789 - val_loss: 1.3116 - val_accuracy: 0.6793\n",
            "Epoch 196/200\n",
            "85/85 [==============================] - 1s 6ms/step - loss: 1.1115 - accuracy: 0.6876 - val_loss: 1.3030 - val_accuracy: 0.6869\n",
            "Epoch 197/200\n",
            "85/85 [==============================] - 1s 6ms/step - loss: 1.1220 - accuracy: 0.6836 - val_loss: 1.3068 - val_accuracy: 0.6869\n",
            "Epoch 198/200\n",
            "85/85 [==============================] - 1s 6ms/step - loss: 1.1251 - accuracy: 0.6874 - val_loss: 1.3060 - val_accuracy: 0.6812\n",
            "Epoch 199/200\n",
            "85/85 [==============================] - 1s 7ms/step - loss: 1.1140 - accuracy: 0.6971 - val_loss: 1.3050 - val_accuracy: 0.6812\n",
            "Epoch 200/200\n",
            "85/85 [==============================] - 1s 6ms/step - loss: 1.1062 - accuracy: 0.6962 - val_loss: 1.3042 - val_accuracy: 0.6812\n"
          ]
        }
      ]
    },
    {
      "cell_type": "markdown",
      "source": [
        "### Test"
      ],
      "metadata": {
        "id": "8Jd0HBg6FaVY"
      }
    },
    {
      "cell_type": "code",
      "source": [
        "# printing loss and accuracy of the model on the test set\n",
        "loss, accuracy = model.evaluate(test_ds)\n",
        "print(\"Loss: \", loss)\n",
        "print(\"Accuracy: \", accuracy)"
      ],
      "metadata": {
        "colab": {
          "base_uri": "https://localhost:8080/"
        },
        "id": "FksY9EwwHDkd",
        "outputId": "b1426478-e6d7-4889-c8e7-13d93f12ae9e"
      },
      "execution_count": 43,
      "outputs": [
        {
          "output_type": "stream",
          "name": "stdout",
          "text": [
            "11/11 [==============================] - 0s 4ms/step - loss: 1.2315 - accuracy: 0.7078\n",
            "Loss:  1.2314647436141968\n",
            "Accuracy:  0.7077798843383789\n"
          ]
        }
      ]
    },
    {
      "cell_type": "code",
      "source": [
        "# extracting the history of training and its keys\n",
        "history_dict = history.history\n",
        "history_dict.keys()"
      ],
      "metadata": {
        "colab": {
          "base_uri": "https://localhost:8080/"
        },
        "id": "cPdyDruxHIv1",
        "outputId": "e39a0db1-91a0-4af4-dc22-b7dddc28fb50"
      },
      "execution_count": 44,
      "outputs": [
        {
          "output_type": "execute_result",
          "data": {
            "text/plain": [
              "dict_keys(['loss', 'accuracy', 'val_loss', 'val_accuracy'])"
            ]
          },
          "metadata": {},
          "execution_count": 44
        }
      ]
    },
    {
      "cell_type": "code",
      "source": [
        "acc = history_dict['accuracy']\n",
        "val_acc = history_dict['val_accuracy']\n",
        "loss = history_dict['loss']\n",
        "val_loss = history_dict['val_loss']\n",
        "\n",
        "epochs = range(1, len(acc) + 1)"
      ],
      "metadata": {
        "id": "shbF_xRlHDqZ"
      },
      "execution_count": 45,
      "outputs": []
    },
    {
      "cell_type": "markdown",
      "source": [
        "### Plotting Results"
      ],
      "metadata": {
        "id": "C6VBFUZnFpXN"
      }
    },
    {
      "cell_type": "code",
      "source": [
        "# ploting of loss\n",
        "plt.plot(epochs, loss, 'b', label='Training loss')\n",
        "plt.plot(epochs, val_loss, 'r', label='Validation loss')\n",
        "plt.title('Training and validation loss')\n",
        "plt.xlabel('Epochs')\n",
        "plt.ylabel('Loss')\n",
        "plt.legend()\n",
        "plt.show()"
      ],
      "metadata": {
        "colab": {
          "base_uri": "https://localhost:8080/",
          "height": 295
        },
        "id": "iLsoTgHGP7Oq",
        "outputId": "da0d7c01-234e-42b5-f470-158601614c3c"
      },
      "execution_count": 46,
      "outputs": [
        {
          "output_type": "display_data",
          "data": {
            "text/plain": [
              "<Figure size 432x288 with 1 Axes>"
            ],
            "image/png": "[encoded data removed]"
          },
          "metadata": {
            "needs_background": "light"
          }
        }
      ]
    },
    {
      "cell_type": "code",
      "source": [
        "# plotting of accuracy\n",
        "plt.plot(epochs, acc, 'b', label='Training acc')\n",
        "plt.plot(epochs, val_acc, 'r', label='Validation acc')\n",
        "plt.title('Training and validation accuracy')\n",
        "plt.xlabel('Epochs')\n",
        "plt.ylabel('Accuracy')\n",
        "plt.legend(loc='lower right')\n",
        "plt.show()"
      ],
      "metadata": {
        "colab": {
          "base_uri": "https://localhost:8080/",
          "height": 295
        },
        "id": "1uWqq-CtP-Lq",
        "outputId": "58c3e3b4-9907-4b63-9798-f2964f372f42"
      },
      "execution_count": 47,
      "outputs": [
        {
          "output_type": "display_data",
          "data": {
            "text/plain": [
              "<Figure size 432x288 with 1 Axes>"
            ],
            "image/png": "[encoded data removed]"
          },
          "metadata": {
            "needs_background": "light"
          }
        }
      ]
    },
    {
      "cell_type": "markdown",
      "source": [
        "### Predict"
      ],
      "metadata": {
        "id": "cjOG8y0PF9Xq"
      }
    },
    {
      "cell_type": "code",
      "source": [
        "# creating the probability model for testing\n",
        "probability_model = tf.keras.Sequential([model, tf.keras.layers.Softmax()])\n",
        "\n",
        "# predicting test samples\n",
        "predictions = probability_model.predict(raw_test_batch.map(vectorize_text))"
      ],
      "metadata": {
        "id": "YQj61lIMvX-Y",
        "colab": {
          "base_uri": "https://localhost:8080/"
        },
        "outputId": "969d906d-c198-4a6e-bac7-2ffd46657c73"
      },
      "execution_count": 59,
      "outputs": [
        {
          "output_type": "stream",
          "name": "stdout",
          "text": [
            "11/11 [==============================] - 0s 2ms/step\n"
          ]
        }
      ]
    },
    {
      "cell_type": "code",
      "source": [
        "# showing the first test sample result label\n",
        "np.argmax(predictions[0])"
      ],
      "metadata": {
        "colab": {
          "base_uri": "https://localhost:8080/"
        },
        "id": "5cbhBKR7NYPQ",
        "outputId": "c5582f9c-4c9a-44e6-d5d5-f4e67c0b796d"
      },
      "execution_count": 61,
      "outputs": [
        {
          "output_type": "execute_result",
          "data": {
            "text/plain": [
              "17"
            ]
          },
          "metadata": {},
          "execution_count": 61
        }
      ]
    },
    {
      "cell_type": "code",
      "source": [
        "# showing the true label of the first test sample\n",
        "test_df.iloc[0]"
      ],
      "metadata": {
        "colab": {
          "base_uri": "https://localhost:8080/"
        },
        "id": "aNsnTWVuu3xj",
        "outputId": "cd4aa15e-405a-4153-dc48-9d5c6786a757"
      },
      "execution_count": 62,
      "outputs": [
        {
          "output_type": "execute_result",
          "data": {
            "text/plain": [
              "text         starter pack curly or dry hair nuebar argan oi...\n",
              "label                                          Health & Beauty\n",
              "label_int                                                   10\n",
              "Name: 2991, dtype: object"
            ]
          },
          "metadata": {},
          "execution_count": 62
        }
      ]
    }
  ]
}